{
 "cells": [
  {
   "cell_type": "code",
   "execution_count": 18,
   "metadata": {},
   "outputs": [],
   "source": [
    "using DataFrames, CSV\n",
    "using JLD\n",
    "using JuMP, Gurobi\n",
    "using LinearAlgebra, Random, Printf, StatsBase, CategoricalArrays\n",
    "using Plots, StatsPlots\n",
    "using Distributions\n",
    "using XLSX"
   ]
  },
  {
   "cell_type": "code",
   "execution_count": 2,
   "metadata": {},
   "outputs": [
    {
     "data": {
      "text/plain": [
       "33"
      ]
     },
     "execution_count": 2,
     "metadata": {},
     "output_type": "execute_result"
    }
   ],
   "source": [
    "liverpool_data = CSV.read(\"Liverpool_FIFA_22.csv\", DataFrame)\n",
    "n_players = nrow(liverpool_data)"
   ]
  },
  {
   "cell_type": "code",
   "execution_count": 3,
   "metadata": {},
   "outputs": [
    {
     "data": {
      "text/plain": [
       "38"
      ]
     },
     "execution_count": 3,
     "metadata": {},
     "output_type": "execute_result"
    }
   ],
   "source": [
    "all_teams = CSV.read(\"Team_Ratings.csv\", DataFrame)\n",
    "n_positions = 27\n",
    "C = CSV.read(\"fixture_list.csv\", DataFrame)\n",
    "n_games = nrow(C)"
   ]
  },
  {
   "cell_type": "code",
   "execution_count": 4,
   "metadata": {},
   "outputs": [
    {
     "data": {
      "text/plain": [
       "6-element Vector{String}:\n",
       " \"ls\"\n",
       " \"st\"\n",
       " \"rs\"\n",
       " \"lf\"\n",
       " \"cf\"\n",
       " \"rf\""
      ]
     },
     "execution_count": 4,
     "metadata": {},
     "output_type": "execute_result"
    }
   ],
   "source": [
    "GK = \"gk\"\n",
    "defenders = [\"lwb\", \"lb\", \"lcb\", \"cb\", \"rcb\", \"rb\", \"rwb\"]\n",
    "midfielders = [\"lam\", \"cam\", \"ram\", \"lm\", \"lcm\", \"cm\", \"rcm\", \"rm\", \"ldm\", \"cdm\", \"rdm\"]\n",
    "forwards = [\"ls\", \"st\", \"rs\", \"lw\", \"lf\", \"cf\", \"rf\", \"rw\"]\n",
    "center_backs = [\"lcb\", \"cb\", \"rcb\"]\n",
    "right_backs = [\"rwb\", \"rb\"]\n",
    "left_backs = [\"lwb\", \"lb\"]\n",
    "cdms = [\"ldm\", \"cdm\", \"rdm\"]\n",
    "cms = [\"lcm\", \"cm\", \"rcm\"]\n",
    "cams = [\"lam\", \"cam\", \"ram\"]\n",
    "left_wingers = [\"lw\", \"lm\"]\n",
    "right_wingers = [\"rw\", \"rm\"]\n",
    "strikers = [\"ls\", \"st\", \"rs\", \"lf\", \"cf\", \"rf\"]"
   ]
  },
  {
   "cell_type": "code",
   "execution_count": 5,
   "metadata": {},
   "outputs": [
    {
     "data": {
      "text/plain": [
       "2"
      ]
     },
     "execution_count": 5,
     "metadata": {},
     "output_type": "execute_result"
    }
   ],
   "source": [
    "player_pos = [\"ls\", \"st\", \"rs\", \"lw\", \"lf\", \"cf\", \"rf\", \"rw\", \"lam\", \"cam\", \"ram\", \"lm\", \"lcm\", \"cm\", \"rcm\", \"rm\", \"lwb\", \"ldm\", \"cdm\", \"rdm\", \"rwb\", \"lb\", \"lcb\", \"cb\", \"rcb\", \"rb\", \"gk\"]\n",
    "pos_to_ind = Dict()\n",
    "ind_to_pos = Dict()\n",
    "index = 1\n",
    "for pos in player_pos\n",
    "    pos_to_ind[pos] = index\n",
    "    ind_to_pos[index] = pos\n",
    "    index += 1\n",
    "end\n",
    "pos_to_ind[\"st\"]"
   ]
  },
  {
   "cell_type": "code",
   "execution_count": 6,
   "metadata": {},
   "outputs": [
    {
     "data": {
      "text/plain": [
       "\"gk\""
      ]
     },
     "execution_count": 6,
     "metadata": {},
     "output_type": "execute_result"
    }
   ],
   "source": [
    "player_pos[27]"
   ]
  },
  {
   "cell_type": "code",
   "execution_count": 7,
   "metadata": {},
   "outputs": [
    {
     "data": {
      "text/plain": [
       "Set{String} with 8 elements:\n",
       "  \"rm\"\n",
       "  \"rwb\"\n",
       "  \"lb\"\n",
       "  \"rw\"\n",
       "  \"lw\"\n",
       "  \"lm\"\n",
       "  \"lwb\"\n",
       "  \"rb\""
      ]
     },
     "execution_count": 7,
     "metadata": {},
     "output_type": "execute_result"
    }
   ],
   "source": [
    "defensive_pos = Set([\"lb\", \"lcb\", \"cb\", \"rcb\", \"rb\", \"ldm\", \"cdm\", \"rdm\"])\n",
    "central_pos = Set([\"ldm\", \"cdm\", \"rdm\", \"lcm\", \"cm\", \"rcm\", \"lam\", \"cam\", \"ram\"])\n",
    "forward_pos = Set(forwards)\n",
    "wing_pos = Set([\"lwb\", \"rwb\", \"lm\", \"rm\", \"lw\", \"rw\"])\n",
    "wingback_pos = Set([\"lwb\", \"rwb\", \"lb\", \"rb\"])\n",
    "union(wingback_pos, wing_pos)"
   ]
  },
  {
   "cell_type": "code",
   "execution_count": 8,
   "metadata": {},
   "outputs": [
    {
     "data": {
      "text/plain": [
       "33×27 Matrix{Int64}:\n",
       " 0   0  0   0  0   0  0   0  0  0  0  0  …  0   0  0  0   0  0  89  0   0   0\n",
       " 0   0  0  87  0   0  0   0  0  0  0  0     0   0  0  0   0  0   0  0   0   0\n",
       " 0   0  0   0  0   0  0  88  0  0  0  0     0   0  0  0   0  0   0  0   0   0\n",
       " 0   0  0   0  0   0  0   0  0  0  0  0     0   0  0  0   0  0   0  0   0  90\n",
       " 0   0  0   0  0   0  0   0  0  0  0  0     0   0  0  0  87  0   0  0   0   0\n",
       " 0   0  0   0  0   0  0   0  0  0  0  0  …  0   0  0  0   0  0   0  0  86   0\n",
       " 0   0  0   0  0   0  0   0  0  0  0  0     0  83  0  0   0  0   0  0   0   0\n",
       " 0   0  0   0  0   0  0   0  0  0  0  0     0  87  0  0   0  0  87  0   0   0\n",
       " 0   0  0   0  0  83  0   0  0  0  0  0     0   0  0  0   0  0   0  0   0   0\n",
       " 0   0  0   0  0   0  0   0  0  0  0  0     0  84  0  0   0  0   0  0   0   0\n",
       " 0   0  0   0  0   0  0   0  0  0  0  0  …  0   0  0  0   0  0  83  0   0   0\n",
       " 0  84  0  82  0   0  0   0  0  0  0  0     0   0  0  0   0  0   0  0   0   0\n",
       " 0   0  0   0  0   0  0   0  0  0  0  0     0   0  0  0   0  0  83  0   0   0\n",
       " ⋮                 ⋮               ⋮     ⋱            ⋮                 ⋮  \n",
       " 0   0  0   0  0   0  0   0  0  0  0  0     0   0  0  0  74  0   0  0   0   0\n",
       " 0   0  0   0  0   0  0   0  0  0  0  0     0   0  0  0   0  0  75  0   0   0\n",
       " 0   0  0   0  0   0  0   0  0  0  0  0     0   0  0  0   0  0   0  0   0   0\n",
       " 0   0  0   0  0   0  0  73  0  0  0  0     0   0  0  0   0  0   0  0   0   0\n",
       " 0   0  0   0  0   0  0   0  0  0  0  0  …  0   0  0  0   0  0   0  0  68   0\n",
       " 0   0  0   0  0   0  0   0  0  0  0  0     0   0  0  0   0  0   0  0   0  68\n",
       " 0   0  0   0  0   0  0   0  0  0  0  0     0   0  0  0  60  0   0  0   0   0\n",
       " 0   0  0   0  0   0  0   0  0  0  0  0     0  58  0  0   0  0   0  0   0   0\n",
       " 0   0  0   0  0   0  0   0  0  0  0  0     0   0  0  0  59  0  59  0   0   0\n",
       " 0   0  0   0  0   0  0   0  0  0  0  0  …  0   0  0  0   0  0  59  0   0   0\n",
       " 0   0  0   0  0   0  0   0  0  0  0  0     0   0  0  0   0  0  59  0   0   0\n",
       " 0   0  0   0  0   0  0   0  0  0  0  0     0   0  0  0   0  0   0  0   0  58"
      ]
     },
     "execution_count": 8,
     "metadata": {},
     "output_type": "execute_result"
    }
   ],
   "source": [
    "function acceptable_positions(player_orig)\n",
    "    acceptable_pos = Set()\n",
    "    for k in player_orig\n",
    "        push!(acceptable_pos, lowercase(k))\n",
    "    end\n",
    "    return acceptable_pos\n",
    "end\n",
    "\n",
    "R = zeros(Int64, (n_players, n_positions))\n",
    "for i in 1:n_players\n",
    "    player_orig = split(liverpool_data[i, \"player_positions\"], \", \")\n",
    "    acceptable_pos = acceptable_positions(player_orig)\n",
    "    for pos in acceptable_pos\n",
    "        R[i, pos_to_ind[pos]] = liverpool_data[i, pos]\n",
    "    end\n",
    "end\n",
    "R"
   ]
  },
  {
   "cell_type": "code",
   "execution_count": 9,
   "metadata": {},
   "outputs": [
    {
     "data": {
      "text/plain": [
       "penalty (generic function with 1 method)"
      ]
     },
     "execution_count": 9,
     "metadata": {},
     "output_type": "execute_result"
    }
   ],
   "source": [
    "pos_discount = 0.99\n",
    "function penalty(player_number, game_number, x)\n",
    "    if game_number == 1\n",
    "        return 1\n",
    "    end\n",
    "    if sum(x[player_number, game_number-1, k] for k in 1:n_positions) == 0\n",
    "        return 1\n",
    "    end\n",
    "    max_consecutive = 0\n",
    "    for j in game_number-1:-1:1\n",
    "        if sum(x[player_number, j, k] for k in 1:n_positions) == 0\n",
    "            break\n",
    "        else\n",
    "            max_consecutive += 1\n",
    "        end\n",
    "    end\n",
    "    return pos_discount^max_consecutive\n",
    "end"
   ]
  },
  {
   "cell_type": "code",
   "execution_count": 10,
   "metadata": {},
   "outputs": [
    {
     "name": "stdout",
     "output_type": "stream",
     "text": [
      "Set parameter Username\n",
      "Academic license - for non-commercial use only - expires 2023-11-28\n"
     ]
    },
    {
     "data": {
      "text/latex": [
       "$$ z_{1} + z_{2} + z_{3} + z_{4} + z_{5} + z_{6} + z_{7} + z_{8} + z_{9} + z_{10} + z_{11} + z_{12} + z_{13} + z_{14} + z_{15} + z_{16} + z_{17} + z_{18} + z_{19} + z_{20} + z_{21} + z_{22} + z_{23} + z_{24} + z_{25} + z_{26} + z_{27} + z_{28} + z_{29} + z_{30} + z_{31} + z_{32} + z_{33} + z_{34} + z_{35} + z_{36} + z_{37} + z_{38} $$"
      ],
      "text/plain": [
       "z[1] + z[2] + z[3] + z[4] + z[5] + z[6] + z[7] + z[8] + z[9] + z[10] + z[11] + z[12] + z[13] + z[14] + z[15] + z[16] + z[17] + z[18] + z[19] + z[20] + z[21] + z[22] + z[23] + z[24] + z[25] + z[26] + z[27] + z[28] + z[29] + z[30] + z[31] + z[32] + z[33] + z[34] + z[35] + z[36] + z[37] + z[38]"
      ]
     },
     "execution_count": 10,
     "metadata": {},
     "output_type": "execute_result"
    }
   ],
   "source": [
    "# model = Model(with_optimizer(Gurobi.Optimizer))\n",
    "model = Model(Gurobi.Optimizer)\n",
    "\n",
    "### Decision Variables ###\n",
    "\n",
    "### x[i][j][k]. player i, game j, position k ###\n",
    "@variable(model, x[i=1:n_players, j=1:n_games, k=1:n_positions], Bin)\n",
    "\n",
    "### z variable, for whether we go for win or not ###\n",
    "@variable(model, z[j = 1:n_games], Bin)\n",
    "\n",
    "\n",
    "### Match Winning Constraint ###\n",
    "### R is player ratings, R[i][k] is player i for position k ###\n",
    "### C is the opposing team rating, C[j] is the rating of the opposing team for game j ###\n",
    "\n",
    "for j in 1:n_games\n",
    "    @constraint(model, sum(sum(R[i, k]*x[i, j, k] for i in 1:n_players) for k in 1:n_positions)/11 >= C[j, 2]*z[j])\n",
    "end\n",
    "\n",
    "### Player Constraints ###\n",
    "\n",
    "### Each player can only play at most once in a game ###\n",
    "for j in 1:n_games\n",
    "    for i in 1:n_players\n",
    "        @constraint(model, sum(x[i, j, k] for k in 1:n_positions) <= 1)\n",
    "    end\n",
    "end\n",
    "\n",
    "### Each player can play a maximum number of games ###\n",
    "for i in 1:n_players\n",
    "    @constraint(model, sum(sum(x[i, j, k] for j in 1:n_games) for k in 1:n_positions) <= liverpool_data[i, \"max_games\"])\n",
    "end\n",
    "\n",
    "### Can only have 11 players in game ###\n",
    "for j in 1:n_games\n",
    "    @constraint(model, sum(sum(x[i, j, k] for k in 1:n_positions) for i in 1:n_players) == 11)\n",
    "\n",
    "    ### 1 GK per game ###\n",
    "    @constraint(model, sum(x[i, j, pos_to_ind[GK]] for i in 1:n_players) == 1)\n",
    "\n",
    "    ### 4 Defenders per game ###\n",
    "    @constraint(model, sum(sum(x[i, j, pos_to_ind[k]] for i in 1:n_players) for k in defenders) == 4)\n",
    "\n",
    "    ### 3 - 5 Midfielders per game ### \n",
    "    @constraint(model, 3 <= sum(sum(x[i, j, pos_to_ind[k]] for i in 1:n_players) for k in midfielders) <= 5)\n",
    "\n",
    "    ### 1 - 3 Forwards per game ###\n",
    "    @constraint(model, 1 <= sum(sum(x[i, j, pos_to_ind[k]] for i in 1:n_players) for k in forwards) <= 3)\n",
    "\n",
    "    # ### 2 CBs per game ###\n",
    "    @constraint(model, sum(sum(x[i, j, pos_to_ind[k]] for i in 1:n_players) for k in center_backs) == 2)\n",
    "\n",
    "    # ### 1 RB per game ###\n",
    "    @constraint(model, sum(sum(x[i, j, pos_to_ind[k]] for i in 1:n_players) for k in right_backs) == 1)\n",
    "\n",
    "    # ### 1 LB per game ###\n",
    "    @constraint(model, sum(sum(x[i, j, pos_to_ind[k]] for i in 1:n_players) for k in left_backs) == 1)\n",
    "\n",
    "    # ### 0 - 2 CDMs per game ###\n",
    "    @constraint(model, 0 <= sum(sum(x[i, j, pos_to_ind[k]] for i in 1:n_players) for k in cdms) <= 2)\n",
    "\n",
    "    # ### 0 - 3 CMs per game ###\n",
    "    @constraint(model, 0 <= sum(sum(x[i, j, pos_to_ind[k]] for i in 1:n_players) for k in cms) <= 3)\n",
    "\n",
    "    # ### 0 - 3 CAMS per game ###\n",
    "    @constraint(model, 0 <= sum(sum(x[i, j, pos_to_ind[k]] for i in 1:n_players) for k in cams) <= 3)\n",
    "\n",
    "    # ### 0 - 1 LW, LM per game ###\n",
    "    @constraint(model, sum(sum(x[i, j, pos_to_ind[k]] for i in 1:n_players) for k in left_wingers) <= 1)\n",
    "\n",
    "    # ### 0 - 1 RW, RM per game ###\n",
    "    @constraint(model, sum(sum(x[i, j, pos_to_ind[k]] for i in 1:n_players) for k in right_wingers) <= 1)\n",
    "\n",
    "    # ### 1 ST per game ###\n",
    "    @constraint(model, sum(sum(x[i, j, pos_to_ind[k]] for i in 1:n_players) for k in strikers) == 1)\n",
    "end\n",
    "\n",
    "### Objective Function ###\n",
    "@objective(model, Max, sum(z[j] for j in 1:n_games))"
   ]
  },
  {
   "cell_type": "code",
   "execution_count": 11,
   "metadata": {},
   "outputs": [
    {
     "name": "stdout",
     "output_type": "stream",
     "text": [
      "Gurobi Optimizer version 9.5.2 build v9.5.2rc0 (win64)\n",
      "Thread count: 6 physical cores, 12 logical processors, using up to 12 threads\n",
      "Optimize a model with 1857 rows, 34086 columns and 169974 nonzeros\n",
      "Model fingerprint: 0x47fc172a\n",
      "Variable types: 190 continuous, 33896 integer (33896 binary)\n",
      "Coefficient statistics:\n",
      "  Matrix range     [1e+00, 9e+01]\n",
      "  Objective range  [1e+00, 1e+00]\n",
      "  Bounds range     [1e+00, 5e+00]\n",
      "  RHS range        [1e+00, 4e+01]\n",
      "Presolve removed 76 rows and 18962 columns\n",
      "Presolve time: 0.13s\n",
      "Presolved: 1781 rows, 15124 columns, 55708 nonzeros\n",
      "Variable types: 0 continuous, 15124 integer (15086 binary)\n",
      "\n",
      "Root relaxation: objective 3.800000e+01, 729 iterations, 0.02 seconds (0.01 work units)\n",
      "\n",
      "    Nodes    |    Current Node    |     Objective Bounds      |     Work\n",
      " Expl Unexpl |  Obj  Depth IntInf | Incumbent    BestBd   Gap | It/Node Time\n",
      "\n",
      "H    0     0                      38.0000000   38.00000  0.00%     -    0s\n",
      "     0     0   38.00000    0   97   38.00000   38.00000  0.00%     -    0s\n",
      "\n",
      "Explored 1 nodes (729 simplex iterations) in 0.22 seconds (0.17 work units)\n",
      "Thread count was 12 (of 12 available processors)\n",
      "\n",
      "Solution count 1: 38 \n",
      "\n",
      "Optimal solution found (tolerance 1.00e-04)\n",
      "Best objective 3.800000000000e+01, best bound 3.800000000000e+01, gap 0.0000%\n",
      "\n",
      "User-callback calls 262, time in user-callback 0.00 sec\n"
     ]
    }
   ],
   "source": [
    "optimize!(model)"
   ]
  },
  {
   "cell_type": "code",
   "execution_count": 12,
   "metadata": {},
   "outputs": [
    {
     "name": "stdout",
     "output_type": "stream",
     "text": [
      "7 85.27272727272727\n"
     ]
    }
   ],
   "source": [
    "opt_x = value.(x)\n",
    "max_rating = 0\n",
    "index = 0\n",
    "for j in 1:n_games\n",
    "    avg_rating = sum(sum(R[i, k]*opt_x[i, j, k] for i in 1:n_players) for k in 1:n_positions)/11\n",
    "    if avg_rating > max_rating\n",
    "        max_rating = avg_rating\n",
    "        index = j\n",
    "    end\n",
    "end\n",
    "println(index, \" \", max_rating)"
   ]
  },
  {
   "cell_type": "code",
   "execution_count": 13,
   "metadata": {},
   "outputs": [
    {
     "name": "stdout",
     "output_type": "stream",
     "text": [
      "Dict{Any, Any}(String31(\"M. Salah\") => \"rw\", String31(\"N. Keïta\") => \"cm\", String31(\"V. van Dijk\") => \"cb\", String31(\"J. Henderson\") => \"cm\", String31(\"D. Origi\") => \"st\", String31(\"T. Alexander-Arnold\") => \"rb\", String31(\"Fabinho\") => \"cb\", String31(\"A. Robertson\") => \"lb\", String31(\"Alisson\") => \"gk\", String31(\"Thiago\") => \"cm\", String31(\"Diogo Jota\") => \"lw\")\n"
     ]
    }
   ],
   "source": [
    "function matrix_to_lineup(x, j)\n",
    "    player_to_pos = Dict()\n",
    "    for i in 1:n_players\n",
    "        for k in 1:n_positions\n",
    "            cur_val = x[i, j, k]\n",
    "            if cur_val == 1\n",
    "                player_name = liverpool_data[i, \"short_name\"]\n",
    "                player_pos = ind_to_pos[k]\n",
    "                player_to_pos[player_name] = player_pos\n",
    "            end\n",
    "        end\n",
    "    end\n",
    "    return player_to_pos\n",
    "end\n",
    "\n",
    "println(matrix_to_lineup(opt_x, index))"
   ]
  },
  {
   "cell_type": "code",
   "execution_count": 14,
   "metadata": {},
   "outputs": [
    {
     "data": {
      "text/plain": [
       "Dict{Any, Any} with 38 entries:\n",
       "  5  => Dict{Any, Any}(String31(\"J. Matip\")=>\"cb\", String31(\"J. Milner\")=>\"lb\",…\n",
       "  16 => Dict{Any, Any}(String31(\"J. Milner\")=>\"rb\", String31(\"C. Jones\")=>\"cm\",…\n",
       "  20 => Dict{Any, Any}(String31(\"J. Milner\")=>\"lb\", String31(\"T. Minamino\")=>\"l…\n",
       "  35 => Dict{Any, Any}(String31(\"S. Mané\")=>\"lw\", String31(\"J. Milner\")=>\"rb\", …\n",
       "  12 => Dict{Any, Any}(String31(\"S. Mané\")=>\"lw\", String31(\"J. Milner\")=>\"rb\", …\n",
       "  24 => Dict{Any, Any}(String31(\"M. Salah\")=>\"rw\", String31(\"V. van Dijk\")=>\"cb…\n",
       "  28 => Dict{Any, Any}(String31(\"S. Mané\")=>\"lw\", String31(\"J. Milner\")=>\"rb\", …\n",
       "  8  => Dict{Any, Any}(String31(\"J. Matip\")=>\"cb\", String31(\"T. Minamino\")=>\"st…\n",
       "  17 => Dict{Any, Any}(String31(\"S. Mané\")=>\"lw\", String31(\"J. Milner\")=>\"cm\", …\n",
       "  30 => Dict{Any, Any}(String31(\"S. Mané\")=>\"lw\", String31(\"J. Milner\")=>\"cm\", …\n",
       "  1  => Dict{Any, Any}(String31(\"T. Minamino\")=>\"st\", String31(\"C. Jones\")=>\"cm…\n",
       "  19 => Dict{Any, Any}(String31(\"S. Mané\")=>\"lw\", String31(\"K. Tsimikas\")=>\"lwb…\n",
       "  22 => Dict{Any, Any}(String31(\"S. Mané\")=>\"lw\", String31(\"J. Matip\")=>\"cb\", S…\n",
       "  23 => Dict{Any, Any}(String31(\"S. Mané\")=>\"lw\", String31(\"K. Tsimikas\")=>\"lwb…\n",
       "  6  => Dict{Any, Any}(String31(\"J. Milner\")=>\"rb\", String31(\"T. Minamino\")=>\"l…\n",
       "  32 => Dict{Any, Any}(String31(\"M. Salah\")=>\"rw\", String31(\"N. Keïta\")=>\"cm\", …\n",
       "  11 => Dict{Any, Any}(String31(\"T. Minamino\")=>\"st\", String31(\"K. Tsimikas\")=>…\n",
       "  36 => Dict{Any, Any}(String31(\"S. Mané\")=>\"lw\", String31(\"J. Milner\")=>\"rb\", …\n",
       "  37 => Dict{Any, Any}(String31(\"J. Milner\")=>\"cm\", String31(\"T. Minamino\")=>\"l…\n",
       "  9  => Dict{Any, Any}(String31(\"C. Jones\")=>\"cm\", String31(\"M. Salah\")=>\"rw\", …\n",
       "  31 => Dict{Any, Any}(String31(\"S. Mané\")=>\"lw\", String31(\"J. Milner\")=>\"rb\", …\n",
       "  14 => Dict{Any, Any}(String31(\"S. Mané\")=>\"lw\", String31(\"J. Matip\")=>\"cb\", S…\n",
       "  3  => Dict{Any, Any}(String31(\"J. Milner\")=>\"cm\", String31(\"M. Salah\")=>\"rw\",…\n",
       "  29 => Dict{Any, Any}(String31(\"S. Mané\")=>\"lw\", String31(\"T. Minamino\")=>\"rw\"…\n",
       "  7  => Dict{Any, Any}(String31(\"M. Salah\")=>\"rw\", String31(\"N. Keïta\")=>\"cm\", …\n",
       "  ⋮  => ⋮"
      ]
     },
     "execution_count": 14,
     "metadata": {},
     "output_type": "execute_result"
    }
   ],
   "source": [
    "function every_lineup(x)\n",
    "    game_to_lineup = Dict()\n",
    "    for j in 1:n_games\n",
    "        game_to_lineup[j] = matrix_to_lineup(x, j)\n",
    "    end\n",
    "    return game_to_lineup\n",
    "end\n",
    "\n",
    "line_ups = every_lineup(opt_x)"
   ]
  },
  {
   "cell_type": "code",
   "execution_count": 15,
   "metadata": {},
   "outputs": [
    {
     "data": {
      "text/html": [
       "<div><div style = \"float: left;\"><span>11×2 DataFrame</span></div><div style = \"clear: both;\"></div></div><div class = \"data-frame\" style = \"overflow-x: scroll;\"><table class = \"data-frame\" style = \"margin-bottom: 6px;\"><thead><tr class = \"header\"><th class = \"rowNumber\" style = \"font-weight: bold; text-align: right;\">Row</th><th style = \"text-align: left;\">player_name</th><th style = \"text-align: left;\">position</th></tr><tr class = \"subheader headerLastRow\"><th class = \"rowNumber\" style = \"font-weight: bold; text-align: right;\"></th><th title = \"Any\" style = \"text-align: left;\">Any</th><th title = \"Any\" style = \"text-align: left;\">Any</th></tr></thead><tbody><tr><td class = \"rowNumber\" style = \"font-weight: bold; text-align: right;\">1</td><td style = \"text-align: left;\">T. Minamino</td><td style = \"text-align: left;\">st</td></tr><tr><td class = \"rowNumber\" style = \"font-weight: bold; text-align: right;\">2</td><td style = \"text-align: left;\">C. Jones</td><td style = \"text-align: left;\">cm</td></tr><tr><td class = \"rowNumber\" style = \"font-weight: bold; text-align: right;\">3</td><td style = \"text-align: left;\">M. Salah</td><td style = \"text-align: left;\">rw</td></tr><tr><td class = \"rowNumber\" style = \"font-weight: bold; text-align: right;\">4</td><td style = \"text-align: left;\">N. Keïta</td><td style = \"text-align: left;\">cm</td></tr><tr><td class = \"rowNumber\" style = \"font-weight: bold; text-align: right;\">5</td><td style = \"text-align: left;\">A. Oxlade-Chamberlain</td><td style = \"text-align: left;\">lw</td></tr><tr><td class = \"rowNumber\" style = \"font-weight: bold; text-align: right;\">6</td><td style = \"text-align: left;\">N. Williams</td><td style = \"text-align: left;\">rb</td></tr><tr><td class = \"rowNumber\" style = \"font-weight: bold; text-align: right;\">7</td><td style = \"text-align: left;\">A. Robertson</td><td style = \"text-align: left;\">lb</td></tr><tr><td class = \"rowNumber\" style = \"font-weight: bold; text-align: right;\">8</td><td style = \"text-align: left;\">Alisson</td><td style = \"text-align: left;\">gk</td></tr><tr><td class = \"rowNumber\" style = \"font-weight: bold; text-align: right;\">9</td><td style = \"text-align: left;\">Thiago</td><td style = \"text-align: left;\">cm</td></tr><tr><td class = \"rowNumber\" style = \"font-weight: bold; text-align: right;\">10</td><td style = \"text-align: left;\">N. Phillips</td><td style = \"text-align: left;\">cb</td></tr><tr><td class = \"rowNumber\" style = \"font-weight: bold; text-align: right;\">11</td><td style = \"text-align: left;\">I. Konaté</td><td style = \"text-align: left;\">cb</td></tr></tbody></table></div>"
      ],
      "text/latex": [
       "\\begin{tabular}{r|cc}\n",
       "\t& player\\_name & position\\\\\n",
       "\t\\hline\n",
       "\t& Any & Any\\\\\n",
       "\t\\hline\n",
       "\t1 & T. Minamino & st \\\\\n",
       "\t2 & C. Jones & cm \\\\\n",
       "\t3 & M. Salah & rw \\\\\n",
       "\t4 & N. Keïta & cm \\\\\n",
       "\t5 & A. Oxlade-Chamberlain & lw \\\\\n",
       "\t6 & N. Williams & rb \\\\\n",
       "\t7 & A. Robertson & lb \\\\\n",
       "\t8 & Alisson & gk \\\\\n",
       "\t9 & Thiago & cm \\\\\n",
       "\t10 & N. Phillips & cb \\\\\n",
       "\t11 & I. Konaté & cb \\\\\n",
       "\\end{tabular}\n"
      ],
      "text/plain": [
       "\u001b[1m11×2 DataFrame\u001b[0m\n",
       "\u001b[1m Row \u001b[0m│\u001b[1m player_name           \u001b[0m\u001b[1m position \u001b[0m\n",
       "     │\u001b[90m Any                   \u001b[0m\u001b[90m Any      \u001b[0m\n",
       "─────┼─────────────────────────────────\n",
       "   1 │ T. Minamino            st\n",
       "   2 │ C. Jones               cm\n",
       "   3 │ M. Salah               rw\n",
       "   4 │ N. Keïta               cm\n",
       "   5 │ A. Oxlade-Chamberlain  lw\n",
       "   6 │ N. Williams            rb\n",
       "   7 │ A. Robertson           lb\n",
       "   8 │ Alisson                gk\n",
       "   9 │ Thiago                 cm\n",
       "  10 │ N. Phillips            cb\n",
       "  11 │ I. Konaté              cb"
      ]
     },
     "execution_count": 15,
     "metadata": {},
     "output_type": "execute_result"
    }
   ],
   "source": [
    "function dict_to_df(lineup_dict)\n",
    "    player_names, player_pos = [], []\n",
    "    for (key, value) in lineup_dict\n",
    "        push!(player_names, key)\n",
    "        push!(player_pos, value)\n",
    "    end\n",
    "    df = DataFrame(player_name = player_names, position = player_pos)\n",
    "    return df\n",
    "end\n",
    "dict_to_df(line_ups[1])"
   ]
  },
  {
   "cell_type": "code",
   "execution_count": 16,
   "metadata": {},
   "outputs": [],
   "source": [
    "for game in 1:n_games\n",
    "    cur_lineup = line_ups[game]\n",
    "    df = dict_to_df(cur_lineup)\n",
    "    CSV.write(\"lineups\\\\lineup_game_$game.csv\", df)\n",
    "end"
   ]
  },
  {
   "cell_type": "code",
   "execution_count": 23,
   "metadata": {},
   "outputs": [],
   "source": [
    "fixtures = C[!, \"Team\"]\n",
    "XLSX.openxlsx(\"lineups.xlsx\", mode=\"w\") do xf\n",
    "    XLSX.rename!(xf[1], fixtures[1] * \"_1\")\n",
    "    teams = Set([fixtures[1]])\n",
    "    sheet = xf[fixtures[1] * \"_1\"]\n",
    "    cur_lineup = line_ups[1]\n",
    "    df = dict_to_df(cur_lineup)\n",
    "    for r in 1:size(df,1), c in 1:size(df,2)\n",
    "        sheet[XLSX.CellRef(r , c )] = df[r,c]\n",
    "    end\n",
    "    for game in 2:n_games\n",
    "        cur_team = fixtures[game]\n",
    "        if cur_team in teams\n",
    "            sheet_name = cur_team * \"_2\"\n",
    "        else\n",
    "            sheet_name = cur_team * \"_1\"\n",
    "            push!(teams, cur_team)\n",
    "        end\n",
    "        XLSX.addsheet!(xf, sheet_name)\n",
    "        sheet = xf[sheet_name]\n",
    "        cur_lineup = line_ups[game]\n",
    "        df = dict_to_df(cur_lineup)\n",
    "        for r in 1:size(df,1), c in 1:size(df,2)\n",
    "            sheet[XLSX.CellRef(r , c )] = df[r,c]\n",
    "        end\n",
    "    end\n",
    "end"
   ]
  }
 ],
 "metadata": {
  "kernelspec": {
   "display_name": "Julia 1.7.1",
   "language": "julia",
   "name": "julia-1.7"
  },
  "language_info": {
   "file_extension": ".jl",
   "mimetype": "application/julia",
   "name": "julia",
   "version": "1.7.1"
  },
  "orig_nbformat": 4
 },
 "nbformat": 4,
 "nbformat_minor": 2
}
