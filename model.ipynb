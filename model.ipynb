{
 "cells": [
  {
   "cell_type": "code",
   "execution_count": 9,
   "metadata": {},
   "outputs": [],
   "source": [
    "# import Pkg\n",
    "\n",
    "# package_list = [\"DataFrames\", \"CSV\",\n",
    "#  \"JuMP\", \"Gurobi\",\n",
    "#  \"LinearAlgebra\", \"Random\", \"Printf\", \"StatsBase\", \"CategoricalArrays\",\n",
    "#  \"Plots\", \"StatsPlots\",\n",
    "#  \"Distributions\", \"JLD\"]\n",
    "\n",
    "# for pkg_name in package_list\n",
    "#     Pkg.update(pkg_name)\n",
    "#     Pkg.add(pkg_name)\n",
    "# end"
   ]
  },
  {
   "cell_type": "code",
   "execution_count": 10,
   "metadata": {},
   "outputs": [],
   "source": [
    "using DataFrames, CSV\n",
    "using JLD\n",
    "using JuMP, Gurobi\n",
    "using LinearAlgebra, Random, Printf, StatsBase, CategoricalArrays\n",
    "using Plots, StatsPlots\n",
    "using Distributions"
   ]
  },
  {
   "cell_type": "code",
   "execution_count": 11,
   "metadata": {},
   "outputs": [
    {
     "data": {
      "text/plain": [
       "33"
      ]
     },
     "execution_count": 11,
     "metadata": {},
     "output_type": "execute_result"
    }
   ],
   "source": [
    "liverpool_data = CSV.read(\"Liverpool_FIFA_22.csv\", DataFrame)\n",
    "n_players = nrow(liverpool_data)"
   ]
  },
  {
   "cell_type": "code",
   "execution_count": 12,
   "metadata": {},
   "outputs": [
    {
     "data": {
      "text/plain": [
       "27"
      ]
     },
     "execution_count": 12,
     "metadata": {},
     "output_type": "execute_result"
    }
   ],
   "source": [
    "all_teams = CSV.read(\"Team_Ratings.csv\", DataFrame)\n",
    "n_games = 2*(nrow(all_teams)-1)\n",
    "n_positions = 27"
   ]
  },
  {
   "cell_type": "code",
   "execution_count": 13,
   "metadata": {},
   "outputs": [
    {
     "data": {
      "text/plain": [
       "6-element Vector{String}:\n",
       " \"ls\"\n",
       " \"st\"\n",
       " \"rs\"\n",
       " \"lf\"\n",
       " \"cf\"\n",
       " \"rf\""
      ]
     },
     "execution_count": 13,
     "metadata": {},
     "output_type": "execute_result"
    }
   ],
   "source": [
    "GK = \"gk\"\n",
    "defenders = [\"lwb\", \"rwb\", \"lb\", \"lcb\", \"cb\", \"rcb\", \"rb\"]\n",
    "midfielders = [\"lam\", \"cam\", \"ram\", \"lm\", \"lcm\", \"cm\", \"rcm\", \"rm\", \"ldm\", \"cdm\", \"rdm\"]\n",
    "forwards = [\"ls\", \"st\", \"rs\", \"lw\", \"lf\", \"cf\", \"rf\", \"rw\"]\n",
    "center_backs = [\"lcb\", \"cb\", \"rcb\"]\n",
    "right_backs = [\"rwb\", \"rb\"]\n",
    "left_backs = [\"lwb\", \"lb\"]\n",
    "cdms = [\"ldm\", \"cdm\", \"rdm\"]\n",
    "cms = [\"lcm\", \"cm\", \"rcm\"]\n",
    "cams = [\"lam\", \"cam\", \"ram\"]\n",
    "left_wingers = [\"lw\", \"lm\"]\n",
    "right_wingers = [\"rw\", \"rm\"]\n",
    "strikers = [\"ls\", \"st\", \"rs\", \"lf\", \"cf\", \"rf\"]"
   ]
  },
  {
   "cell_type": "code",
   "execution_count": 20,
   "metadata": {},
   "outputs": [
    {
     "data": {
      "text/plain": [
       "2"
      ]
     },
     "execution_count": 20,
     "metadata": {},
     "output_type": "execute_result"
    }
   ],
   "source": [
    "player_pos = [\"ls\", \"st\", \"rs\", \"lw\", \"lf\", \"cf\", \"rf\", \"rw\", \"lam\", \"cam\", \"ram\", \"lm\", \"lcm\", \"cm\", \"rcm\", \"rm\", \"lwb\", \"ldm\", \"cdm\", \"rdm\", \"rwb\", \"lb\", \"lcb\", \"cb\", \"rcb\", \"rb\", \"gk\"]\n",
    "pos_to_ind = Dict()\n",
    "index = 1\n",
    "for pos in player_pos\n",
    "    pos_to_ind[pos] = index\n",
    "    index += 1\n",
    "end\n",
    "pos_to_ind[\"st\"]"
   ]
  },
  {
   "cell_type": "code",
   "execution_count": 21,
   "metadata": {},
   "outputs": [
    {
     "name": "stdout",
     "output_type": "stream",
     "text": [
      "Set parameter Username\n",
      "Academic license - for non-commercial use only - expires 2023-11-28\n"
     ]
    }
   ],
   "source": [
    "model = Model(with_optimizer(Gurobi.Optimizer))\n",
    "\n",
    "### Decision Variables ###\n",
    "\n",
    "### x[i][j][k]. player i, game j, position k ###\n",
    "@variable(model, x[i=1:n_players, j=1:n_games, k=1:n_positions], Bin)\n",
    "\n",
    "### z variable, for whether we go for win or not ###\n",
    "@variable(model, z[j = 1:n_games], Bin)\n",
    "\n",
    "\n",
    "### Match Winning Constraint ###\n",
    "### R is player ratings, R[i][k] is player i for position k ###\n",
    "### C is the opposing team rating, C[j] is the rating of the opposing team for game j ###\n",
    "for j in 1:n_games\n",
    "    @constraint(model, sum(sum(R[i][k]*x[i][j][k] for i in 1:n_players) for k in 1:n_positions)/11 >= C[j]*z[j])\n",
    "end\n",
    "\n",
    "### Player Constraints ###\n",
    "\n",
    "### Each player can only play at most once in a game ###\n",
    "for j in 1:n_games\n",
    "    for i in 1:n_players\n",
    "        @constraint(model, sum(x[i, j, k] for k in 1:n_positions) <= 1)\n",
    "    end\n",
    "end\n",
    "\n",
    "### Can only have 11 players in game ###\n",
    "for j in 1:n_games\n",
    "    @constraint(model, sum(sum(x[i, j, k] for k in 1:n_positions) for i in 1:n_players) == 11)\n",
    "\n",
    "    ### 1 GK per game ###\n",
    "    @constraint(model, sum(x[i, j, pos_to_ind[GK]] for i in 1:n_players) == 1)\n",
    "\n",
    "    ### 4 Defenders per game ###\n",
    "    for k in defenders\n",
    "        @constraint(model, sum(x[i, j, pos_to_ind[k]] for i in 1:n_players) == 4)\n",
    "    end\n",
    "\n",
    "    ### 3 - 5 Midfielders per game ### \n",
    "    for k in midfielders\n",
    "        @constraint(model, 3 <= sum(x[i, j, pos_to_ind[k]] for i in 1:n_players) <= 5)\n",
    "    end\n",
    "\n",
    "    ### 1 - 3 Forwards per game ###\n",
    "    for k in forwards\n",
    "        @constraint(model, 1 <= sum(x[i, j, pos_to_ind[k]] for i in 1:n_players) <= 3)\n",
    "    end\n",
    "\n",
    "    ### 2 CBs per game ###\n",
    "    for k in center_backs\n",
    "        @constraint(model, sum(x[i, j, pos_to_ind[k]] for i in 1:n_players) == 2)\n",
    "    end\n",
    "\n",
    "    ### 1 RB per game ###\n",
    "    for k in right_backs\n",
    "        @constraint(model, sum(x[i, j, pos_to_ind[k]] for i in 1:n_players) == 1)\n",
    "    end\n",
    "\n",
    "    ### 1 LB per game ###\n",
    "    for k in left_backs\n",
    "        @constraint(model, sum(x[i, j, pos_to_ind[k]] for i in 1:n_players) == 1)\n",
    "    end\n",
    "\n",
    "    ### 0 - 2 CDMs per game ###\n",
    "    for k in cdms\n",
    "        @constraint(model, 0 <= sum(x[i, j, pos_to_ind[k]] for i in 1:n_players) <= 2)\n",
    "    end\n",
    "\n",
    "    ### 0 - 3 CMs per game ###\n",
    "    for k in cms\n",
    "        @constraint(model, 0 <= sum(x[i, j, pos_to_ind[k]] for i in 1:n_players) <= 3)\n",
    "    end\n",
    "\n",
    "    ### 0 - 3 CAMS per game ###\n",
    "    for k in cams\n",
    "        @constraint(model, 0 <= sum(x[i, j, pos_to_ind[k]] for i in 1:n_players) <= 3)\n",
    "    end\n",
    "\n",
    "    ### 0 - 1 LW, LM per game ###\n",
    "    for k in left_wingers\n",
    "        @constraint(model, sum(x[i, j, pos_to_ind[k]] for i in 1:n_players) <= 1)\n",
    "    end\n",
    "\n",
    "    ### 0 - 1 RW, RM per game ###\n",
    "    for k in right_wingers\n",
    "        @constraint(model, sum(x[i, j, pos_to_ind[k]] for i in 1:n_players) <= 1)\n",
    "    end\n",
    "\n",
    "    ### 1 ST per game ###\n",
    "    for k in strikers\n",
    "        @constraint(model, sum(x[i, j, pos_to_ind[k]] for i in 1:n_players) == 1)\n",
    "    end \n",
    "end\n",
    "\n",
    "### Objective Function ###\n",
    "@Objective(model, Max, sum(z[j] for j in 1:n_games))"
   ]
  }
 ],
 "metadata": {
  "kernelspec": {
   "display_name": "Julia 1.7.1",
   "language": "julia",
   "name": "julia-1.7"
  },
  "language_info": {
   "file_extension": ".jl",
   "mimetype": "application/julia",
   "name": "julia",
   "version": "1.7.1"
  },
  "orig_nbformat": 4
 },
 "nbformat": 4,
 "nbformat_minor": 2
}
