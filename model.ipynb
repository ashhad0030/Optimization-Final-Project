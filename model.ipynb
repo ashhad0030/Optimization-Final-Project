{
 "cells": [
  {
   "cell_type": "code",
   "execution_count": 23,
   "metadata": {},
   "outputs": [],
   "source": [
    "using DataFrames, CSV\n",
    "using JLD\n",
    "using JuMP, Gurobi\n",
    "using LinearAlgebra, Random, Printf, StatsBase, CategoricalArrays\n",
    "using Plots, StatsPlots\n",
    "using Distributions"
   ]
  },
  {
   "cell_type": "code",
   "execution_count": 24,
   "metadata": {},
   "outputs": [
    {
     "data": {
      "text/plain": [
       "24"
      ]
     },
     "execution_count": 24,
     "metadata": {},
     "output_type": "execute_result"
    }
   ],
   "source": [
    "liverpool_data = CSV.read(\"Liverpool_FIFA_22.csv\", DataFrame)\n",
    "delete!(liverpool_data, [19, 21, 23, 28, 29, 30, 31, 32, 33])\n",
    "n_players = nrow(liverpool_data)"
   ]
  },
  {
   "cell_type": "code",
   "execution_count": 25,
   "metadata": {},
   "outputs": [
    {
     "data": {
      "text/plain": [
       "38"
      ]
     },
     "execution_count": 25,
     "metadata": {},
     "output_type": "execute_result"
    }
   ],
   "source": [
    "all_teams = CSV.read(\"Team_Ratings.csv\", DataFrame)\n",
    "n_positions = 27\n",
    "C = CSV.read(\"fixture_list.csv\", DataFrame)\n",
    "n_games = nrow(C)"
   ]
  },
  {
   "cell_type": "code",
   "execution_count": 26,
   "metadata": {},
   "outputs": [
    {
     "data": {
      "text/plain": [
       "6-element Vector{String}:\n",
       " \"ls\"\n",
       " \"st\"\n",
       " \"rs\"\n",
       " \"lf\"\n",
       " \"cf\"\n",
       " \"rf\""
      ]
     },
     "execution_count": 26,
     "metadata": {},
     "output_type": "execute_result"
    }
   ],
   "source": [
    "GK = \"gk\"\n",
    "defenders = [\"lwb\", \"rwb\", \"lb\", \"lcb\", \"cb\", \"rcb\", \"rb\"]\n",
    "midfielders = [\"lam\", \"cam\", \"ram\", \"lm\", \"lcm\", \"cm\", \"rcm\", \"rm\", \"ldm\", \"cdm\", \"rdm\"]\n",
    "forwards = [\"ls\", \"st\", \"rs\", \"lw\", \"lf\", \"cf\", \"rf\", \"rw\"]\n",
    "center_backs = [\"lcb\", \"cb\", \"rcb\"]\n",
    "right_backs = [\"rwb\", \"rb\"]\n",
    "left_backs = [\"lwb\", \"lb\"]\n",
    "cdms = [\"ldm\", \"cdm\", \"rdm\"]\n",
    "cms = [\"lcm\", \"cm\", \"rcm\"]\n",
    "cams = [\"lam\", \"cam\", \"ram\"]\n",
    "left_wingers = [\"lw\", \"lm\"]\n",
    "right_wingers = [\"rw\", \"rm\"]\n",
    "strikers = [\"ls\", \"st\", \"rs\", \"lf\", \"cf\", \"rf\"]"
   ]
  },
  {
   "cell_type": "code",
   "execution_count": 27,
   "metadata": {},
   "outputs": [
    {
     "data": {
      "text/plain": [
       "2"
      ]
     },
     "execution_count": 27,
     "metadata": {},
     "output_type": "execute_result"
    }
   ],
   "source": [
    "player_pos = [\"ls\", \"st\", \"rs\", \"lw\", \"lf\", \"cf\", \"rf\", \"rw\", \"lam\", \"cam\", \"ram\", \"lm\", \"lcm\", \"cm\", \"rcm\", \"rm\", \"lwb\", \"ldm\", \"cdm\", \"rdm\", \"rwb\", \"lb\", \"lcb\", \"cb\", \"rcb\", \"rb\", \"gk\"]\n",
    "pos_to_ind = Dict()\n",
    "ind_to_pos = Dict()\n",
    "index = 1\n",
    "for pos in player_pos\n",
    "    pos_to_ind[pos] = index\n",
    "    ind_to_pos[index] = pos\n",
    "    index += 1\n",
    "end\n",
    "pos_to_ind[\"st\"]"
   ]
  },
  {
   "cell_type": "code",
   "execution_count": 28,
   "metadata": {},
   "outputs": [
    {
     "data": {
      "text/plain": [
       "Set{String} with 8 elements:\n",
       "  \"rm\"\n",
       "  \"rwb\"\n",
       "  \"lb\"\n",
       "  \"rw\"\n",
       "  \"lw\"\n",
       "  \"lm\"\n",
       "  \"lwb\"\n",
       "  \"rb\""
      ]
     },
     "execution_count": 28,
     "metadata": {},
     "output_type": "execute_result"
    }
   ],
   "source": [
    "defensive_pos = Set([\"lb\", \"lcb\", \"cb\", \"rcb\", \"rb\", \"ldm\", \"cdm\", \"rdm\"])\n",
    "central_pos = Set([\"ldm\", \"cdm\", \"rdm\", \"lcm\", \"cm\", \"rcm\", \"lam\", \"cam\", \"ram\"])\n",
    "forward_pos = Set(forwards)\n",
    "wing_pos = Set([\"lwb\", \"rwb\", \"lm\", \"rm\", \"lw\", \"rw\"])\n",
    "wingback_pos = Set([\"lwb\", \"rwb\", \"lb\", \"rb\"])\n",
    "union(wingback_pos, wing_pos)"
   ]
  },
  {
   "cell_type": "code",
   "execution_count": 29,
   "metadata": {},
   "outputs": [
    {
     "data": {
      "text/plain": [
       "27-element Vector{Int64}:\n",
       "  0\n",
       "  0\n",
       "  0\n",
       "  0\n",
       "  0\n",
       "  0\n",
       "  0\n",
       "  0\n",
       "  0\n",
       "  0\n",
       "  0\n",
       "  0\n",
       "  0\n",
       "  ⋮\n",
       "  0\n",
       "  0\n",
       "  0\n",
       "  0\n",
       "  0\n",
       "  0\n",
       "  0\n",
       "  0\n",
       " 89\n",
       "  0\n",
       "  0\n",
       "  0"
      ]
     },
     "execution_count": 29,
     "metadata": {},
     "output_type": "execute_result"
    }
   ],
   "source": [
    "function acceptable_positions(player_orig)\n",
    "    acceptable_pos = Set()\n",
    "    for k in player_orig\n",
    "        push!(acceptable_pos, lowercase(k))\n",
    "    end\n",
    "    return acceptable_pos\n",
    "end\n",
    "\n",
    "R = zeros(Int64, (n_players, n_positions))\n",
    "for i in 1:n_players\n",
    "    player_orig = split(liverpool_data[i, \"player_positions\"], \", \")\n",
    "    acceptable_pos = acceptable_positions(player_orig)\n",
    "    for pos in acceptable_pos\n",
    "        R[i, pos_to_ind[pos]] = liverpool_data[i, pos]\n",
    "    end\n",
    "end\n",
    "R[1, :]"
   ]
  },
  {
   "cell_type": "code",
   "execution_count": 30,
   "metadata": {},
   "outputs": [
    {
     "data": {
      "text/plain": [
       "penalty (generic function with 1 method)"
      ]
     },
     "execution_count": 30,
     "metadata": {},
     "output_type": "execute_result"
    }
   ],
   "source": [
    "pos_discount = 0.99\n",
    "function penalty(player_number, game_number, x)\n",
    "    if game_number == 1\n",
    "        return 1\n",
    "    end\n",
    "    if sum(x[player_number, game_number-1, k] for k in 1:n_positions) == 0\n",
    "        return 1\n",
    "    end\n",
    "    max_consecutive = 0\n",
    "    for j in game_number-1:-1:1\n",
    "        if sum(x[player_number, j, k] for k in 1:n_positions) == 0\n",
    "            break\n",
    "        else\n",
    "            max_consecutive += 1\n",
    "        end\n",
    "    end\n",
    "    return pos_discount^max_consecutive\n",
    "end"
   ]
  },
  {
   "cell_type": "code",
   "execution_count": 31,
   "metadata": {},
   "outputs": [
    {
     "name": "stdout",
     "output_type": "stream",
     "text": [
      "Set parameter Username\n",
      "Academic license - for non-commercial use only - expires 2023-09-03\n"
     ]
    },
    {
     "data": {
      "text/latex": [
       "$$ z_{1} + z_{2} + z_{3} + z_{4} + z_{5} + z_{6} + z_{7} + z_{8} + z_{9} + z_{10} + z_{11} + z_{12} + z_{13} + z_{14} + z_{15} + z_{16} + z_{17} + z_{18} + z_{19} + z_{20} + z_{21} + z_{22} + z_{23} + z_{24} + z_{25} + z_{26} + z_{27} + z_{28} + z_{29} + z_{30} + z_{31} + z_{32} + z_{33} + z_{34} + z_{35} + z_{36} + z_{37} + z_{38} $$"
      ],
      "text/plain": [
       "z[1] + z[2] + z[3] + z[4] + z[5] + z[6] + z[7] + z[8] + z[9] + z[10] + z[11] + z[12] + z[13] + z[14] + z[15] + z[16] + z[17] + z[18] + z[19] + z[20] + z[21] + z[22] + z[23] + z[24] + z[25] + z[26] + z[27] + z[28] + z[29] + z[30] + z[31] + z[32] + z[33] + z[34] + z[35] + z[36] + z[37] + z[38]"
      ]
     },
     "execution_count": 31,
     "metadata": {},
     "output_type": "execute_result"
    }
   ],
   "source": [
    "# model = Model(with_optimizer(Gurobi.Optimizer))\n",
    "model = Model(Gurobi.Optimizer)\n",
    "\n",
    "### Decision Variables ###\n",
    "\n",
    "### x[i][j][k]. player i, game j, position k ###\n",
    "@variable(model, x[i=1:n_players, j=1:n_games, k=1:n_positions], Bin)\n",
    "\n",
    "### z variable, for whether we go for win or not ###\n",
    "@variable(model, z[j = 1:n_games], Bin)\n",
    "\n",
    "\n",
    "### Match Winning Constraint ###\n",
    "### R is player ratings, R[i][k] is player i for position k ###\n",
    "### C is the opposing team rating, C[j] is the rating of the opposing team for game j ###\n",
    "\n",
    "for j in 1:n_games\n",
    "    @constraint(model, sum(sum(R[i, k]*x[i, j, k] for i in 1:n_players) for k in 1:n_positions)/11 >= C[j, 2]*z[j])\n",
    "end\n",
    "\n",
    "### Player Constraints ###\n",
    "\n",
    "### Each player can only play at most once in a game ###\n",
    "for j in 1:n_games\n",
    "    for i in 1:n_players\n",
    "        @constraint(model, sum(x[i, j, k] for k in 1:n_positions) <= 1)\n",
    "    end\n",
    "end\n",
    "\n",
    "### Can only have 11 players in game ###\n",
    "for j in 1:n_games\n",
    "    @constraint(model, sum(sum(x[i, j, k] for k in 1:n_positions) for i in 1:n_players) == 11)\n",
    "\n",
    "    ### 1 GK per game ###\n",
    "    @constraint(model, sum(x[i, j, pos_to_ind[GK]] for i in 1:n_players) == 1)\n",
    "\n",
    "    ### 4 Defenders per game ###\n",
    "    @constraint(model, sum(sum(x[i, j, pos_to_ind[k]] for i in 1:n_players) for k in defenders) == 4)\n",
    "\n",
    "    ### 3 - 5 Midfielders per game ### \n",
    "    @constraint(model, 3 <= sum(sum(x[i, j, pos_to_ind[k]] for i in 1:n_players) for k in midfielders) <= 5)\n",
    "\n",
    "    ### 1 - 3 Forwards per game ###\n",
    "    @constraint(model, 1 <= sum(sum(x[i, j, pos_to_ind[k]] for i in 1:n_players) for k in forwards) <= 3)\n",
    "\n",
    "    # ### 2 CBs per game ###\n",
    "    @constraint(model, sum(sum(x[i, j, pos_to_ind[k]] for i in 1:n_players) for k in center_backs) == 2)\n",
    "\n",
    "    # ### 1 RB per game ###\n",
    "    @constraint(model, sum(sum(x[i, j, pos_to_ind[k]] for i in 1:n_players) for k in right_backs) == 1)\n",
    "\n",
    "    # ### 1 LB per game ###\n",
    "    @constraint(model, sum(sum(x[i, j, pos_to_ind[k]] for i in 1:n_players) for k in left_backs) == 1)\n",
    "\n",
    "    # ### 0 - 2 CDMs per game ###\n",
    "    @constraint(model, 0 <= sum(sum(x[i, j, pos_to_ind[k]] for i in 1:n_players) for k in cdms) <= 2)\n",
    "\n",
    "    # ### 0 - 3 CMs per game ###\n",
    "    @constraint(model, 0 <= sum(sum(x[i, j, pos_to_ind[k]] for i in 1:n_players) for k in cms) <= 3)\n",
    "\n",
    "    # ### 0 - 3 CAMS per game ###\n",
    "    @constraint(model, 0 <= sum(sum(x[i, j, pos_to_ind[k]] for i in 1:n_players) for k in cams) <= 3)\n",
    "\n",
    "    # ### 0 - 1 LW, LM per game ###\n",
    "    @constraint(model, sum(sum(x[i, j, pos_to_ind[k]] for i in 1:n_players) for k in left_wingers) <= 1)\n",
    "\n",
    "    # ### 0 - 1 RW, RM per game ###\n",
    "    @constraint(model, sum(sum(x[i, j, pos_to_ind[k]] for i in 1:n_players) for k in right_wingers) <= 1)\n",
    "\n",
    "    # ### 1 ST per game ###\n",
    "    @constraint(model, sum(sum(x[i, j, pos_to_ind[k]] for i in 1:n_players) for k in strikers) == 1)\n",
    "end\n",
    "\n",
    "### Objective Function ###\n",
    "@objective(model, Max, sum(z[j] for j in 1:n_games))"
   ]
  },
  {
   "cell_type": "code",
   "execution_count": 32,
   "metadata": {},
   "outputs": [
    {
     "name": "stdout",
     "output_type": "stream",
     "text": [
      "Gurobi Optimizer version 9.5.2 build v9.5.2rc0 (mac64[x86])\n",
      "Thread count: 6 physical cores, 12 logical processors, using up to 12 threads\n",
      "Optimize a model with 1482 rows, 24852 columns and 99142 nonzeros\n",
      "Model fingerprint: 0x532f7cd1\n",
      "Variable types: 190 continuous, 24662 integer (24662 binary)\n",
      "Coefficient statistics:\n",
      "  Matrix range     [1e+00, 8e+01]\n",
      "  Objective range  [1e+00, 1e+00]\n",
      "  Bounds range     [1e+00, 5e+00]\n",
      "  RHS range        [1e+00, 1e+01]\n",
      "Presolve removed 1445 rows and 24562 columns\n",
      "Presolve time: 0.21s\n",
      "Presolved: 37 rows, 290 columns, 781 nonzeros\n",
      "Variable types: 0 continuous, 290 integer (289 binary)\n",
      "\n",
      "Root relaxation: objective 3.800000e+01, 20 iterations, 0.00 seconds (0.00 work units)\n",
      "\n",
      "    Nodes    |    Current Node    |     Objective Bounds      |     Work\n",
      " Expl Unexpl |  Obj  Depth IntInf | Incumbent    BestBd   Gap | It/Node Time\n",
      "\n",
      "     0     0   38.00000    0    2          -   38.00000      -     -    0s\n",
      "H    0     0                      37.0000000   38.00000  2.70%     -    0s\n",
      "H    0     0                      38.0000000   38.00000  0.00%     -    0s\n",
      "\n",
      "Explored 1 nodes (20 simplex iterations) in 0.24 seconds (0.10 work units)\n",
      "Thread count was 12 (of 12 available processors)\n",
      "\n",
      "Solution count 2: 38 37 \n",
      "\n",
      "Optimal solution found (tolerance 1.00e-04)\n",
      "Best objective 3.800000000000e+01, best bound 3.800000000000e+01, gap 0.0000%\n",
      "\n",
      "User-callback calls 309, time in user-callback 0.00 sec\n"
     ]
    }
   ],
   "source": [
    "optimize!(model)"
   ]
  },
  {
   "cell_type": "code",
   "execution_count": 33,
   "metadata": {},
   "outputs": [
    {
     "name": "stdout",
     "output_type": "stream",
     "text": [
      "Dict{Any, Any}(String31(\"S. Mané\") => \"lw\", String31(\"J. Matip\") => \"cb\", String31(\"J. Milner\") => \"cm\", String31(\"A. Oxlade-Chamberlain\") => \"cm\", String31(\"H. Elliott\") => \"rw\", String31(\"V. van Dijk\") => \"ram\", String31(\"D. Origi\") => \"st\", String31(\"N. Williams\") => \"rb\", String31(\"A. Robertson\") => \"lb\", String31(\"Alisson\") => \"gk\", String31(\"I. Konaté\") => \"cb\")\n"
     ]
    }
   ],
   "source": [
    "opt_x = value.(x)\n",
    "function matrix_to_lineup(x, j)\n",
    "    player_to_pos = Dict()\n",
    "    for i in 1:n_players\n",
    "        for k in 1:n_positions\n",
    "            cur_val = x[i, j, k]\n",
    "            if cur_val == 1\n",
    "                player_name = liverpool_data[i, \"short_name\"]\n",
    "                player_pos = ind_to_pos[k]\n",
    "                player_to_pos[player_name] = player_pos\n",
    "            end\n",
    "        end\n",
    "    end\n",
    "    return player_to_pos\n",
    "end\n",
    "\n",
    "println(matrix_to_lineup(opt_x, 1))"
   ]
  },
  {
   "cell_type": "code",
   "execution_count": 34,
   "metadata": {},
   "outputs": [
    {
     "data": {
      "text/plain": [
       "Dict{Any, Any} with 38 entries:\n",
       "  5  => Dict{Any, Any}(String31(\"S. Mané\")=>\"lw\", String31(\"J. Matip\")=>\"cb\", S…\n",
       "  16 => Dict{Any, Any}(String31(\"S. Mané\")=>\"lw\", String31(\"J. Matip\")=>\"cb\", S…\n",
       "  20 => Dict{Any, Any}(String31(\"S. Mané\")=>\"lw\", String31(\"J. Matip\")=>\"cb\", S…\n",
       "  35 => Dict{Any, Any}(String31(\"S. Mané\")=>\"lw\", String31(\"J. Matip\")=>\"cb\", S…\n",
       "  12 => Dict{Any, Any}(String31(\"S. Mané\")=>\"lw\", String31(\"J. Matip\")=>\"cb\", S…\n",
       "  24 => Dict{Any, Any}(String31(\"S. Mané\")=>\"lw\", String31(\"J. Matip\")=>\"cb\", S…\n",
       "  28 => Dict{Any, Any}(String31(\"S. Mané\")=>\"lw\", String31(\"J. Matip\")=>\"cb\", S…\n",
       "  8  => Dict{Any, Any}(String31(\"S. Mané\")=>\"lw\", String31(\"J. Matip\")=>\"cb\", S…\n",
       "  17 => Dict{Any, Any}(String31(\"S. Mané\")=>\"lw\", String31(\"J. Matip\")=>\"cb\", S…\n",
       "  30 => Dict{Any, Any}(String31(\"S. Mané\")=>\"lw\", String31(\"J. Matip\")=>\"cb\", S…\n",
       "  1  => Dict{Any, Any}(String31(\"S. Mané\")=>\"lw\", String31(\"J. Matip\")=>\"cb\", S…\n",
       "  19 => Dict{Any, Any}(String31(\"S. Mané\")=>\"lw\", String31(\"J. Matip\")=>\"cb\", S…\n",
       "  22 => Dict{Any, Any}(String31(\"S. Mané\")=>\"lw\", String31(\"J. Matip\")=>\"cb\", S…\n",
       "  23 => Dict{Any, Any}(String31(\"S. Mané\")=>\"lw\", String31(\"J. Matip\")=>\"cb\", S…\n",
       "  6  => Dict{Any, Any}(String31(\"S. Mané\")=>\"lw\", String31(\"J. Matip\")=>\"cb\", S…\n",
       "  32 => Dict{Any, Any}(String31(\"S. Mané\")=>\"lw\", String31(\"J. Milner\")=>\"cm\", …\n",
       "  11 => Dict{Any, Any}(String31(\"S. Mané\")=>\"lw\", String31(\"J. Matip\")=>\"cb\", S…\n",
       "  36 => Dict{Any, Any}(String31(\"S. Mané\")=>\"lw\", String31(\"J. Matip\")=>\"cb\", S…\n",
       "  37 => Dict{Any, Any}(String31(\"S. Mané\")=>\"lw\", String31(\"J. Matip\")=>\"cb\", S…\n",
       "  9  => Dict{Any, Any}(String31(\"S. Mané\")=>\"lw\", String31(\"J. Matip\")=>\"cb\", S…\n",
       "  31 => Dict{Any, Any}(String31(\"S. Mané\")=>\"lw\", String31(\"J. Matip\")=>\"cb\", S…\n",
       "  14 => Dict{Any, Any}(String31(\"S. Mané\")=>\"lw\", String31(\"J. Matip\")=>\"cb\", S…\n",
       "  3  => Dict{Any, Any}(String31(\"S. Mané\")=>\"lw\", String31(\"J. Matip\")=>\"cb\", S…\n",
       "  29 => Dict{Any, Any}(String31(\"S. Mané\")=>\"lw\", String31(\"J. Matip\")=>\"cb\", S…\n",
       "  7  => Dict{Any, Any}(String31(\"S. Mané\")=>\"lw\", String31(\"J. Milner\")=>\"cm\", …\n",
       "  ⋮  => ⋮"
      ]
     },
     "execution_count": 34,
     "metadata": {},
     "output_type": "execute_result"
    }
   ],
   "source": [
    "function every_lineup(x)\n",
    "    game_to_lineup = Dict()\n",
    "    for j in 1:n_games\n",
    "        game_to_lineup[j] = matrix_to_lineup(x, j)\n",
    "    end\n",
    "    return game_to_lineup\n",
    "end\n",
    "\n",
    "line_ups = every_lineup(opt_x)"
   ]
  },
  {
   "cell_type": "code",
   "execution_count": 35,
   "metadata": {},
   "outputs": [
    {
     "data": {
      "text/plain": [
       "Dict{Any, Any} with 11 entries:\n",
       "  String31(\"S. Mané\")               => \"lw\"\n",
       "  String31(\"J. Matip\")              => \"cb\"\n",
       "  String31(\"J. Milner\")             => \"cm\"\n",
       "  String31(\"A. Oxlade-Chamberlain\") => \"cm\"\n",
       "  String31(\"H. Elliott\")            => \"rw\"\n",
       "  String31(\"V. van Dijk\")           => \"ram\"\n",
       "  String31(\"D. Origi\")              => \"st\"\n",
       "  String31(\"N. Williams\")           => \"rb\"\n",
       "  String31(\"A. Robertson\")          => \"lb\"\n",
       "  String31(\"Alisson\")               => \"gk\"\n",
       "  String31(\"I. Konaté\")             => \"cb\""
      ]
     },
     "execution_count": 35,
     "metadata": {},
     "output_type": "execute_result"
    }
   ],
   "source": [
    "line_ups[1]"
   ]
  }
 ],
 "metadata": {
  "kernelspec": {
   "display_name": "Julia 1.8.0",
   "language": "julia",
   "name": "julia-1.8"
  },
  "language_info": {
   "file_extension": ".jl",
   "mimetype": "application/julia",
   "name": "julia",
   "version": "1.8.0"
  },
  "orig_nbformat": 4
 },
 "nbformat": 4,
 "nbformat_minor": 2
}
