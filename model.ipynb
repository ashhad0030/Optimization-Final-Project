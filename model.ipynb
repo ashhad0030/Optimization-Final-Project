{
 "cells": [
  {
   "cell_type": "code",
   "execution_count": 64,
   "metadata": {},
   "outputs": [],
   "source": [
    "using DataFrames, CSV\n",
    "using JLD\n",
    "using JuMP, Gurobi\n",
    "using LinearAlgebra, Random, Printf, StatsBase, CategoricalArrays\n",
    "using Plots, StatsPlots\n",
    "using Distributions\n",
    "using XLSX"
   ]
  },
  {
   "cell_type": "code",
   "execution_count": 63,
   "metadata": {},
   "outputs": [
    {
     "name": "stderr",
     "output_type": "stream",
     "text": [
      "\u001b[32m\u001b[1m    Updating\u001b[22m\u001b[39m registry at `~/.julia/registries/General.toml`\n",
      "\u001b[32m\u001b[1m   Resolving\u001b[22m\u001b[39m package versions...\n",
      "\u001b[32m\u001b[1m   Installed\u001b[22m\u001b[39m XLSX ──── v0.8.4\n",
      "\u001b[32m\u001b[1m   Installed\u001b[22m\u001b[39m ZipFile ─ v0.10.1\n",
      "\u001b[32m\u001b[1m   Installed\u001b[22m\u001b[39m EzXML ─── v1.1.0\n",
      "\u001b[32m\u001b[1m    Updating\u001b[22m\u001b[39m `~/.julia/environments/v1.8/Project.toml`\n",
      " \u001b[90m [fdbf4ff8] \u001b[39m\u001b[92m+ XLSX v0.8.4\u001b[39m\n",
      "\u001b[32m\u001b[1m    Updating\u001b[22m\u001b[39m `~/.julia/environments/v1.8/Manifest.toml`\n",
      " \u001b[90m [8f5d6c58] \u001b[39m\u001b[92m+ EzXML v1.1.0\u001b[39m\n",
      " \u001b[90m [fdbf4ff8] \u001b[39m\u001b[92m+ XLSX v0.8.4\u001b[39m\n",
      " \u001b[90m [a5390f91] \u001b[39m\u001b[92m+ ZipFile v0.10.1\u001b[39m\n",
      "\u001b[32m\u001b[1mPrecompiling\u001b[22m\u001b[39m project...\n",
      "\u001b[32m  ✓ \u001b[39m\u001b[90mZipFile\u001b[39m\n",
      "\u001b[32m  ✓ \u001b[39m\u001b[90mEzXML\u001b[39m\n",
      "\u001b[32m  ✓ \u001b[39mXLSX\n",
      "  3 dependencies successfully precompiled in 5 seconds. 211 already precompiled.\n"
     ]
    }
   ],
   "source": [
    "import Pkg\n",
    "Pkg.add(\"XLSX\")"
   ]
  },
  {
   "cell_type": "code",
   "execution_count": 76,
   "metadata": {},
   "outputs": [
    {
     "data": {
      "text/html": [
       "<div><div style = \"float: left;\"><span>24×33 DataFrame</span></div><div style = \"clear: both;\"></div></div><div class = \"data-frame\" style = \"overflow-x: scroll;\"><table class = \"data-frame\" style = \"margin-bottom: 6px;\"><thead><tr class = \"header\"><th class = \"rowNumber\" style = \"font-weight: bold; text-align: right;\">Row</th><th style = \"text-align: left;\">Column1</th><th style = \"text-align: left;\">short_name</th><th style = \"text-align: left;\">player_positions</th><th style = \"text-align: left;\">overall</th><th style = \"text-align: left;\">age</th><th style = \"text-align: left;\">ls</th><th style = \"text-align: left;\">st</th><th style = \"text-align: left;\">rs</th><th style = \"text-align: left;\">lw</th><th style = \"text-align: left;\">lf</th><th style = \"text-align: left;\">cf</th><th style = \"text-align: left;\">rf</th><th style = \"text-align: left;\">rw</th><th style = \"text-align: left;\">lam</th><th style = \"text-align: left;\">cam</th><th style = \"text-align: left;\">ram</th><th style = \"text-align: left;\">lm</th><th style = \"text-align: left;\">lcm</th><th style = \"text-align: left;\">cm</th><th style = \"text-align: left;\">rcm</th><th style = \"text-align: left;\">rm</th><th style = \"text-align: left;\">lwb</th><th style = \"text-align: left;\">ldm</th><th style = \"text-align: left;\">cdm</th><th style = \"text-align: left;\">rdm</th><th style = \"text-align: left;\">rwb</th><th style = \"text-align: left;\">lb</th><th style = \"text-align: left;\">lcb</th><th style = \"text-align: left;\">cb</th><th style = \"text-align: left;\">rcb</th><th style = \"text-align: left;\">rb</th><th style = \"text-align: left;\">gk</th><th style = \"text-align: left;\">max_games</th></tr><tr class = \"subheader headerLastRow\"><th class = \"rowNumber\" style = \"font-weight: bold; text-align: right;\"></th><th title = \"Int64\" style = \"text-align: left;\">Int64</th><th title = \"String31\" style = \"text-align: left;\">String31</th><th title = \"String15\" style = \"text-align: left;\">String15</th><th title = \"Int64\" style = \"text-align: left;\">Int64</th><th title = \"Int64\" style = \"text-align: left;\">Int64</th><th title = \"Int64\" style = \"text-align: left;\">Int64</th><th title = \"Int64\" style = \"text-align: left;\">Int64</th><th title = \"Int64\" style = \"text-align: left;\">Int64</th><th title = \"Int64\" style = \"text-align: left;\">Int64</th><th title = \"Int64\" style = \"text-align: left;\">Int64</th><th title = \"Int64\" style = \"text-align: left;\">Int64</th><th title = \"Int64\" style = \"text-align: left;\">Int64</th><th title = \"Int64\" style = \"text-align: left;\">Int64</th><th title = \"Int64\" style = \"text-align: left;\">Int64</th><th title = \"Int64\" style = \"text-align: left;\">Int64</th><th title = \"Int64\" style = \"text-align: left;\">Int64</th><th title = \"Int64\" style = \"text-align: left;\">Int64</th><th title = \"Int64\" style = \"text-align: left;\">Int64</th><th title = \"Int64\" style = \"text-align: left;\">Int64</th><th title = \"Int64\" style = \"text-align: left;\">Int64</th><th title = \"Int64\" style = \"text-align: left;\">Int64</th><th title = \"Int64\" style = \"text-align: left;\">Int64</th><th title = \"Int64\" style = \"text-align: left;\">Int64</th><th title = \"Int64\" style = \"text-align: left;\">Int64</th><th title = \"Int64\" style = \"text-align: left;\">Int64</th><th title = \"Int64\" style = \"text-align: left;\">Int64</th><th title = \"Int64\" style = \"text-align: left;\">Int64</th><th title = \"Int64\" style = \"text-align: left;\">Int64</th><th title = \"Int64\" style = \"text-align: left;\">Int64</th><th title = \"Int64\" style = \"text-align: left;\">Int64</th><th title = \"Int64\" style = \"text-align: left;\">Int64</th><th title = \"Int64\" style = \"text-align: left;\">Int64</th><th title = \"Int64\" style = \"text-align: left;\">Int64</th></tr></thead><tbody><tr><td class = \"rowNumber\" style = \"font-weight: bold; text-align: right;\">1</td><td style = \"text-align: right;\">15</td><td style = \"text-align: left;\">V. van Dijk</td><td style = \"text-align: left;\">CB</td><td style = \"text-align: right;\">89</td><td style = \"text-align: right;\">29</td><td style = \"text-align: right;\">73</td><td style = \"text-align: right;\">73</td><td style = \"text-align: right;\">73</td><td style = \"text-align: right;\">67</td><td style = \"text-align: right;\">69</td><td style = \"text-align: right;\">69</td><td style = \"text-align: right;\">69</td><td style = \"text-align: right;\">67</td><td style = \"text-align: right;\">73</td><td style = \"text-align: right;\">73</td><td style = \"text-align: right;\">73</td><td style = \"text-align: right;\">73</td><td style = \"text-align: right;\">78</td><td style = \"text-align: right;\">78</td><td style = \"text-align: right;\">78</td><td style = \"text-align: right;\">73</td><td style = \"text-align: right;\">82</td><td style = \"text-align: right;\">87</td><td style = \"text-align: right;\">87</td><td style = \"text-align: right;\">87</td><td style = \"text-align: right;\">82</td><td style = \"text-align: right;\">84</td><td style = \"text-align: right;\">89</td><td style = \"text-align: right;\">89</td><td style = \"text-align: right;\">89</td><td style = \"text-align: right;\">84</td><td style = \"text-align: right;\">23</td><td style = \"text-align: right;\">35</td></tr><tr><td class = \"rowNumber\" style = \"font-weight: bold; text-align: right;\">2</td><td style = \"text-align: right;\">16</td><td style = \"text-align: left;\">S. Mané</td><td style = \"text-align: left;\">LW</td><td style = \"text-align: right;\">89</td><td style = \"text-align: right;\">29</td><td style = \"text-align: right;\">89</td><td style = \"text-align: right;\">89</td><td style = \"text-align: right;\">89</td><td style = \"text-align: right;\">87</td><td style = \"text-align: right;\">88</td><td style = \"text-align: right;\">88</td><td style = \"text-align: right;\">88</td><td style = \"text-align: right;\">87</td><td style = \"text-align: right;\">89</td><td style = \"text-align: right;\">89</td><td style = \"text-align: right;\">89</td><td style = \"text-align: right;\">89</td><td style = \"text-align: right;\">83</td><td style = \"text-align: right;\">83</td><td style = \"text-align: right;\">83</td><td style = \"text-align: right;\">89</td><td style = \"text-align: right;\">71</td><td style = \"text-align: right;\">68</td><td style = \"text-align: right;\">68</td><td style = \"text-align: right;\">68</td><td style = \"text-align: right;\">71</td><td style = \"text-align: right;\">68</td><td style = \"text-align: right;\">62</td><td style = \"text-align: right;\">62</td><td style = \"text-align: right;\">62</td><td style = \"text-align: right;\">68</td><td style = \"text-align: right;\">22</td><td style = \"text-align: right;\">35</td></tr><tr><td class = \"rowNumber\" style = \"font-weight: bold; text-align: right;\">3</td><td style = \"text-align: right;\">17</td><td style = \"text-align: left;\">M. Salah</td><td style = \"text-align: left;\">RW</td><td style = \"text-align: right;\">89</td><td style = \"text-align: right;\">29</td><td style = \"text-align: right;\">88</td><td style = \"text-align: right;\">88</td><td style = \"text-align: right;\">88</td><td style = \"text-align: right;\">88</td><td style = \"text-align: right;\">88</td><td style = \"text-align: right;\">88</td><td style = \"text-align: right;\">88</td><td style = \"text-align: right;\">88</td><td style = \"text-align: right;\">89</td><td style = \"text-align: right;\">89</td><td style = \"text-align: right;\">89</td><td style = \"text-align: right;\">89</td><td style = \"text-align: right;\">85</td><td style = \"text-align: right;\">85</td><td style = \"text-align: right;\">85</td><td style = \"text-align: right;\">89</td><td style = \"text-align: right;\">74</td><td style = \"text-align: right;\">71</td><td style = \"text-align: right;\">71</td><td style = \"text-align: right;\">71</td><td style = \"text-align: right;\">74</td><td style = \"text-align: right;\">70</td><td style = \"text-align: right;\">61</td><td style = \"text-align: right;\">61</td><td style = \"text-align: right;\">61</td><td style = \"text-align: right;\">70</td><td style = \"text-align: right;\">25</td><td style = \"text-align: right;\">35</td></tr><tr><td class = \"rowNumber\" style = \"font-weight: bold; text-align: right;\">4</td><td style = \"text-align: right;\">20</td><td style = \"text-align: left;\">Alisson</td><td style = \"text-align: left;\">GK</td><td style = \"text-align: right;\">89</td><td style = \"text-align: right;\">28</td><td style = \"text-align: right;\">40</td><td style = \"text-align: right;\">40</td><td style = \"text-align: right;\">40</td><td style = \"text-align: right;\">35</td><td style = \"text-align: right;\">38</td><td style = \"text-align: right;\">38</td><td style = \"text-align: right;\">38</td><td style = \"text-align: right;\">35</td><td style = \"text-align: right;\">43</td><td style = \"text-align: right;\">43</td><td style = \"text-align: right;\">43</td><td style = \"text-align: right;\">41</td><td style = \"text-align: right;\">43</td><td style = \"text-align: right;\">43</td><td style = \"text-align: right;\">43</td><td style = \"text-align: right;\">41</td><td style = \"text-align: right;\">34</td><td style = \"text-align: right;\">38</td><td style = \"text-align: right;\">38</td><td style = \"text-align: right;\">38</td><td style = \"text-align: right;\">34</td><td style = \"text-align: right;\">33</td><td style = \"text-align: right;\">34</td><td style = \"text-align: right;\">34</td><td style = \"text-align: right;\">34</td><td style = \"text-align: right;\">33</td><td style = \"text-align: right;\">90</td><td style = \"text-align: right;\">35</td></tr><tr><td class = \"rowNumber\" style = \"font-weight: bold; text-align: right;\">5</td><td style = \"text-align: right;\">42</td><td style = \"text-align: left;\">A. Robertson</td><td style = \"text-align: left;\">LB</td><td style = \"text-align: right;\">87</td><td style = \"text-align: right;\">27</td><td style = \"text-align: right;\">75</td><td style = \"text-align: right;\">75</td><td style = \"text-align: right;\">75</td><td style = \"text-align: right;\">79</td><td style = \"text-align: right;\">77</td><td style = \"text-align: right;\">77</td><td style = \"text-align: right;\">77</td><td style = \"text-align: right;\">79</td><td style = \"text-align: right;\">82</td><td style = \"text-align: right;\">82</td><td style = \"text-align: right;\">82</td><td style = \"text-align: right;\">84</td><td style = \"text-align: right;\">84</td><td style = \"text-align: right;\">84</td><td style = \"text-align: right;\">84</td><td style = \"text-align: right;\">84</td><td style = \"text-align: right;\">88</td><td style = \"text-align: right;\">85</td><td style = \"text-align: right;\">85</td><td style = \"text-align: right;\">85</td><td style = \"text-align: right;\">88</td><td style = \"text-align: right;\">87</td><td style = \"text-align: right;\">82</td><td style = \"text-align: right;\">82</td><td style = \"text-align: right;\">82</td><td style = \"text-align: right;\">87</td><td style = \"text-align: right;\">21</td><td style = \"text-align: right;\">35</td></tr><tr><td class = \"rowNumber\" style = \"font-weight: bold; text-align: right;\">6</td><td style = \"text-align: right;\">44</td><td style = \"text-align: left;\">T. Alexander-Arnold</td><td style = \"text-align: left;\">RB</td><td style = \"text-align: right;\">87</td><td style = \"text-align: right;\">22</td><td style = \"text-align: right;\">78</td><td style = \"text-align: right;\">78</td><td style = \"text-align: right;\">78</td><td style = \"text-align: right;\">80</td><td style = \"text-align: right;\">79</td><td style = \"text-align: right;\">79</td><td style = \"text-align: right;\">79</td><td style = \"text-align: right;\">80</td><td style = \"text-align: right;\">84</td><td style = \"text-align: right;\">84</td><td style = \"text-align: right;\">84</td><td style = \"text-align: right;\">85</td><td style = \"text-align: right;\">87</td><td style = \"text-align: right;\">87</td><td style = \"text-align: right;\">87</td><td style = \"text-align: right;\">85</td><td style = \"text-align: right;\">87</td><td style = \"text-align: right;\">86</td><td style = \"text-align: right;\">86</td><td style = \"text-align: right;\">86</td><td style = \"text-align: right;\">87</td><td style = \"text-align: right;\">86</td><td style = \"text-align: right;\">81</td><td style = \"text-align: right;\">81</td><td style = \"text-align: right;\">81</td><td style = \"text-align: right;\">86</td><td style = \"text-align: right;\">22</td><td style = \"text-align: right;\">35</td></tr><tr><td class = \"rowNumber\" style = \"font-weight: bold; text-align: right;\">7</td><td style = \"text-align: right;\">51</td><td style = \"text-align: left;\">Thiago</td><td style = \"text-align: left;\">CM, CDM</td><td style = \"text-align: right;\">86</td><td style = \"text-align: right;\">30</td><td style = \"text-align: right;\">77</td><td style = \"text-align: right;\">77</td><td style = \"text-align: right;\">77</td><td style = \"text-align: right;\">81</td><td style = \"text-align: right;\">80</td><td style = \"text-align: right;\">80</td><td style = \"text-align: right;\">80</td><td style = \"text-align: right;\">81</td><td style = \"text-align: right;\">86</td><td style = \"text-align: right;\">86</td><td style = \"text-align: right;\">86</td><td style = \"text-align: right;\">85</td><td style = \"text-align: right;\">86</td><td style = \"text-align: right;\">86</td><td style = \"text-align: right;\">86</td><td style = \"text-align: right;\">85</td><td style = \"text-align: right;\">80</td><td style = \"text-align: right;\">83</td><td style = \"text-align: right;\">83</td><td style = \"text-align: right;\">83</td><td style = \"text-align: right;\">80</td><td style = \"text-align: right;\">78</td><td style = \"text-align: right;\">74</td><td style = \"text-align: right;\">74</td><td style = \"text-align: right;\">74</td><td style = \"text-align: right;\">78</td><td style = \"text-align: right;\">21</td><td style = \"text-align: right;\">25</td></tr><tr><td class = \"rowNumber\" style = \"font-weight: bold; text-align: right;\">8</td><td style = \"text-align: right;\">61</td><td style = \"text-align: left;\">Fabinho</td><td style = \"text-align: left;\">CDM, CB</td><td style = \"text-align: right;\">86</td><td style = \"text-align: right;\">27</td><td style = \"text-align: right;\">77</td><td style = \"text-align: right;\">77</td><td style = \"text-align: right;\">77</td><td style = \"text-align: right;\">75</td><td style = \"text-align: right;\">75</td><td style = \"text-align: right;\">75</td><td style = \"text-align: right;\">75</td><td style = \"text-align: right;\">75</td><td style = \"text-align: right;\">79</td><td style = \"text-align: right;\">79</td><td style = \"text-align: right;\">79</td><td style = \"text-align: right;\">80</td><td style = \"text-align: right;\">84</td><td style = \"text-align: right;\">84</td><td style = \"text-align: right;\">84</td><td style = \"text-align: right;\">80</td><td style = \"text-align: right;\">85</td><td style = \"text-align: right;\">87</td><td style = \"text-align: right;\">87</td><td style = \"text-align: right;\">87</td><td style = \"text-align: right;\">85</td><td style = \"text-align: right;\">85</td><td style = \"text-align: right;\">87</td><td style = \"text-align: right;\">87</td><td style = \"text-align: right;\">87</td><td style = \"text-align: right;\">85</td><td style = \"text-align: right;\">21</td><td style = \"text-align: right;\">30</td></tr><tr><td class = \"rowNumber\" style = \"font-weight: bold; text-align: right;\">9</td><td style = \"text-align: right;\">85</td><td style = \"text-align: left;\">Roberto Firmino</td><td style = \"text-align: left;\">CF</td><td style = \"text-align: right;\">85</td><td style = \"text-align: right;\">29</td><td style = \"text-align: right;\">84</td><td style = \"text-align: right;\">84</td><td style = \"text-align: right;\">84</td><td style = \"text-align: right;\">83</td><td style = \"text-align: right;\">83</td><td style = \"text-align: right;\">83</td><td style = \"text-align: right;\">83</td><td style = \"text-align: right;\">83</td><td style = \"text-align: right;\">85</td><td style = \"text-align: right;\">85</td><td style = \"text-align: right;\">85</td><td style = \"text-align: right;\">85</td><td style = \"text-align: right;\">85</td><td style = \"text-align: right;\">85</td><td style = \"text-align: right;\">85</td><td style = \"text-align: right;\">85</td><td style = \"text-align: right;\">75</td><td style = \"text-align: right;\">75</td><td style = \"text-align: right;\">75</td><td style = \"text-align: right;\">75</td><td style = \"text-align: right;\">75</td><td style = \"text-align: right;\">72</td><td style = \"text-align: right;\">70</td><td style = \"text-align: right;\">70</td><td style = \"text-align: right;\">70</td><td style = \"text-align: right;\">72</td><td style = \"text-align: right;\">20</td><td style = \"text-align: right;\">35</td></tr><tr><td class = \"rowNumber\" style = \"font-weight: bold; text-align: right;\">10</td><td style = \"text-align: right;\">102</td><td style = \"text-align: left;\">J. Henderson</td><td style = \"text-align: left;\">CDM, CM</td><td style = \"text-align: right;\">84</td><td style = \"text-align: right;\">31</td><td style = \"text-align: right;\">79</td><td style = \"text-align: right;\">79</td><td style = \"text-align: right;\">79</td><td style = \"text-align: right;\">78</td><td style = \"text-align: right;\">78</td><td style = \"text-align: right;\">78</td><td style = \"text-align: right;\">78</td><td style = \"text-align: right;\">78</td><td style = \"text-align: right;\">82</td><td style = \"text-align: right;\">82</td><td style = \"text-align: right;\">82</td><td style = \"text-align: right;\">83</td><td style = \"text-align: right;\">84</td><td style = \"text-align: right;\">84</td><td style = \"text-align: right;\">84</td><td style = \"text-align: right;\">83</td><td style = \"text-align: right;\">83</td><td style = \"text-align: right;\">84</td><td style = \"text-align: right;\">84</td><td style = \"text-align: right;\">84</td><td style = \"text-align: right;\">83</td><td style = \"text-align: right;\">82</td><td style = \"text-align: right;\">82</td><td style = \"text-align: right;\">82</td><td style = \"text-align: right;\">82</td><td style = \"text-align: right;\">82</td><td style = \"text-align: right;\">22</td><td style = \"text-align: right;\">35</td></tr><tr><td class = \"rowNumber\" style = \"font-weight: bold; text-align: right;\">11</td><td style = \"text-align: right;\">158</td><td style = \"text-align: left;\">J. Matip</td><td style = \"text-align: left;\">CB</td><td style = \"text-align: right;\">83</td><td style = \"text-align: right;\">29</td><td style = \"text-align: right;\">64</td><td style = \"text-align: right;\">64</td><td style = \"text-align: right;\">64</td><td style = \"text-align: right;\">62</td><td style = \"text-align: right;\">64</td><td style = \"text-align: right;\">64</td><td style = \"text-align: right;\">64</td><td style = \"text-align: right;\">62</td><td style = \"text-align: right;\">68</td><td style = \"text-align: right;\">68</td><td style = \"text-align: right;\">68</td><td style = \"text-align: right;\">67</td><td style = \"text-align: right;\">74</td><td style = \"text-align: right;\">74</td><td style = \"text-align: right;\">74</td><td style = \"text-align: right;\">67</td><td style = \"text-align: right;\">76</td><td style = \"text-align: right;\">82</td><td style = \"text-align: right;\">82</td><td style = \"text-align: right;\">82</td><td style = \"text-align: right;\">76</td><td style = \"text-align: right;\">78</td><td style = \"text-align: right;\">83</td><td style = \"text-align: right;\">83</td><td style = \"text-align: right;\">83</td><td style = \"text-align: right;\">78</td><td style = \"text-align: right;\">21</td><td style = \"text-align: right;\">25</td></tr><tr><td class = \"rowNumber\" style = \"font-weight: bold; text-align: right;\">12</td><td style = \"text-align: right;\">256</td><td style = \"text-align: left;\">Diogo Jota</td><td style = \"text-align: left;\">LW, ST</td><td style = \"text-align: right;\">82</td><td style = \"text-align: right;\">24</td><td style = \"text-align: right;\">84</td><td style = \"text-align: right;\">84</td><td style = \"text-align: right;\">84</td><td style = \"text-align: right;\">82</td><td style = \"text-align: right;\">82</td><td style = \"text-align: right;\">82</td><td style = \"text-align: right;\">82</td><td style = \"text-align: right;\">82</td><td style = \"text-align: right;\">83</td><td style = \"text-align: right;\">83</td><td style = \"text-align: right;\">83</td><td style = \"text-align: right;\">83</td><td style = \"text-align: right;\">79</td><td style = \"text-align: right;\">79</td><td style = \"text-align: right;\">79</td><td style = \"text-align: right;\">83</td><td style = \"text-align: right;\">71</td><td style = \"text-align: right;\">71</td><td style = \"text-align: right;\">71</td><td style = \"text-align: right;\">71</td><td style = \"text-align: right;\">71</td><td style = \"text-align: right;\">70</td><td style = \"text-align: right;\">67</td><td style = \"text-align: right;\">67</td><td style = \"text-align: right;\">67</td><td style = \"text-align: right;\">70</td><td style = \"text-align: right;\">20</td><td style = \"text-align: right;\">35</td></tr><tr><td class = \"rowNumber\" style = \"font-weight: bold; text-align: right;\">13</td><td style = \"text-align: right;\">257</td><td style = \"text-align: left;\">J. Gomez</td><td style = \"text-align: left;\">CB</td><td style = \"text-align: right;\">82</td><td style = \"text-align: right;\">24</td><td style = \"text-align: right;\">60</td><td style = \"text-align: right;\">60</td><td style = \"text-align: right;\">60</td><td style = \"text-align: right;\">64</td><td style = \"text-align: right;\">62</td><td style = \"text-align: right;\">62</td><td style = \"text-align: right;\">62</td><td style = \"text-align: right;\">64</td><td style = \"text-align: right;\">66</td><td style = \"text-align: right;\">66</td><td style = \"text-align: right;\">66</td><td style = \"text-align: right;\">70</td><td style = \"text-align: right;\">70</td><td style = \"text-align: right;\">70</td><td style = \"text-align: right;\">70</td><td style = \"text-align: right;\">70</td><td style = \"text-align: right;\">80</td><td style = \"text-align: right;\">80</td><td style = \"text-align: right;\">80</td><td style = \"text-align: right;\">80</td><td style = \"text-align: right;\">80</td><td style = \"text-align: right;\">81</td><td style = \"text-align: right;\">83</td><td style = \"text-align: right;\">83</td><td style = \"text-align: right;\">83</td><td style = \"text-align: right;\">81</td><td style = \"text-align: right;\">19</td><td style = \"text-align: right;\">25</td></tr><tr><td class = \"rowNumber\" style = \"font-weight: bold; text-align: right;\">14</td><td style = \"text-align: right;\">461</td><td style = \"text-align: left;\">N. Keïta</td><td style = \"text-align: left;\">CM</td><td style = \"text-align: right;\">80</td><td style = \"text-align: right;\">26</td><td style = \"text-align: right;\">75</td><td style = \"text-align: right;\">75</td><td style = \"text-align: right;\">75</td><td style = \"text-align: right;\">78</td><td style = \"text-align: right;\">78</td><td style = \"text-align: right;\">78</td><td style = \"text-align: right;\">78</td><td style = \"text-align: right;\">78</td><td style = \"text-align: right;\">82</td><td style = \"text-align: right;\">82</td><td style = \"text-align: right;\">82</td><td style = \"text-align: right;\">80</td><td style = \"text-align: right;\">81</td><td style = \"text-align: right;\">81</td><td style = \"text-align: right;\">81</td><td style = \"text-align: right;\">80</td><td style = \"text-align: right;\">75</td><td style = \"text-align: right;\">77</td><td style = \"text-align: right;\">77</td><td style = \"text-align: right;\">77</td><td style = \"text-align: right;\">75</td><td style = \"text-align: right;\">72</td><td style = \"text-align: right;\">68</td><td style = \"text-align: right;\">68</td><td style = \"text-align: right;\">68</td><td style = \"text-align: right;\">72</td><td style = \"text-align: right;\">21</td><td style = \"text-align: right;\">25</td></tr><tr><td class = \"rowNumber\" style = \"font-weight: bold; text-align: right;\">15</td><td style = \"text-align: right;\">510</td><td style = \"text-align: left;\">J. Milner</td><td style = \"text-align: left;\">CM, LB, RB</td><td style = \"text-align: right;\">79</td><td style = \"text-align: right;\">35</td><td style = \"text-align: right;\">73</td><td style = \"text-align: right;\">73</td><td style = \"text-align: right;\">73</td><td style = \"text-align: right;\">74</td><td style = \"text-align: right;\">74</td><td style = \"text-align: right;\">74</td><td style = \"text-align: right;\">74</td><td style = \"text-align: right;\">74</td><td style = \"text-align: right;\">77</td><td style = \"text-align: right;\">77</td><td style = \"text-align: right;\">77</td><td style = \"text-align: right;\">77</td><td style = \"text-align: right;\">79</td><td style = \"text-align: right;\">79</td><td style = \"text-align: right;\">79</td><td style = \"text-align: right;\">77</td><td style = \"text-align: right;\">79</td><td style = \"text-align: right;\">79</td><td style = \"text-align: right;\">79</td><td style = \"text-align: right;\">79</td><td style = \"text-align: right;\">79</td><td style = \"text-align: right;\">78</td><td style = \"text-align: right;\">78</td><td style = \"text-align: right;\">78</td><td style = \"text-align: right;\">78</td><td style = \"text-align: right;\">78</td><td style = \"text-align: right;\">19</td><td style = \"text-align: right;\">25</td></tr><tr><td class = \"rowNumber\" style = \"font-weight: bold; text-align: right;\">16</td><td style = \"text-align: right;\">549</td><td style = \"text-align: left;\">A. Oxlade-Chamberlain</td><td style = \"text-align: left;\">CM</td><td style = \"text-align: right;\">79</td><td style = \"text-align: right;\">27</td><td style = \"text-align: right;\">76</td><td style = \"text-align: right;\">76</td><td style = \"text-align: right;\">76</td><td style = \"text-align: right;\">79</td><td style = \"text-align: right;\">79</td><td style = \"text-align: right;\">79</td><td style = \"text-align: right;\">79</td><td style = \"text-align: right;\">79</td><td style = \"text-align: right;\">79</td><td style = \"text-align: right;\">79</td><td style = \"text-align: right;\">79</td><td style = \"text-align: right;\">79</td><td style = \"text-align: right;\">79</td><td style = \"text-align: right;\">79</td><td style = \"text-align: right;\">79</td><td style = \"text-align: right;\">79</td><td style = \"text-align: right;\">78</td><td style = \"text-align: right;\">77</td><td style = \"text-align: right;\">77</td><td style = \"text-align: right;\">77</td><td style = \"text-align: right;\">78</td><td style = \"text-align: right;\">76</td><td style = \"text-align: right;\">71</td><td style = \"text-align: right;\">71</td><td style = \"text-align: right;\">71</td><td style = \"text-align: right;\">76</td><td style = \"text-align: right;\">20</td><td style = \"text-align: right;\">25</td></tr><tr><td class = \"rowNumber\" style = \"font-weight: bold; text-align: right;\">17</td><td style = \"text-align: right;\">832</td><td style = \"text-align: left;\">I. Konaté</td><td style = \"text-align: left;\">CB</td><td style = \"text-align: right;\">78</td><td style = \"text-align: right;\">22</td><td style = \"text-align: right;\">57</td><td style = \"text-align: right;\">57</td><td style = \"text-align: right;\">57</td><td style = \"text-align: right;\">57</td><td style = \"text-align: right;\">57</td><td style = \"text-align: right;\">57</td><td style = \"text-align: right;\">57</td><td style = \"text-align: right;\">57</td><td style = \"text-align: right;\">62</td><td style = \"text-align: right;\">62</td><td style = \"text-align: right;\">62</td><td style = \"text-align: right;\">62</td><td style = \"text-align: right;\">66</td><td style = \"text-align: right;\">66</td><td style = \"text-align: right;\">66</td><td style = \"text-align: right;\">62</td><td style = \"text-align: right;\">71</td><td style = \"text-align: right;\">76</td><td style = \"text-align: right;\">76</td><td style = \"text-align: right;\">76</td><td style = \"text-align: right;\">71</td><td style = \"text-align: right;\">74</td><td style = \"text-align: right;\">80</td><td style = \"text-align: right;\">80</td><td style = \"text-align: right;\">80</td><td style = \"text-align: right;\">74</td><td style = \"text-align: right;\">19</td><td style = \"text-align: right;\">25</td></tr><tr><td class = \"rowNumber\" style = \"font-weight: bold; text-align: right;\">18</td><td style = \"text-align: right;\">1294</td><td style = \"text-align: left;\">D. Origi</td><td style = \"text-align: left;\">ST, LW</td><td style = \"text-align: right;\">76</td><td style = \"text-align: right;\">26</td><td style = \"text-align: right;\">78</td><td style = \"text-align: right;\">78</td><td style = \"text-align: right;\">78</td><td style = \"text-align: right;\">75</td><td style = \"text-align: right;\">76</td><td style = \"text-align: right;\">76</td><td style = \"text-align: right;\">76</td><td style = \"text-align: right;\">75</td><td style = \"text-align: right;\">76</td><td style = \"text-align: right;\">76</td><td style = \"text-align: right;\">76</td><td style = \"text-align: right;\">76</td><td style = \"text-align: right;\">69</td><td style = \"text-align: right;\">69</td><td style = \"text-align: right;\">69</td><td style = \"text-align: right;\">76</td><td style = \"text-align: right;\">56</td><td style = \"text-align: right;\">54</td><td style = \"text-align: right;\">54</td><td style = \"text-align: right;\">54</td><td style = \"text-align: right;\">56</td><td style = \"text-align: right;\">53</td><td style = \"text-align: right;\">48</td><td style = \"text-align: right;\">48</td><td style = \"text-align: right;\">48</td><td style = \"text-align: right;\">53</td><td style = \"text-align: right;\">23</td><td style = \"text-align: right;\">35</td></tr><tr><td class = \"rowNumber\" style = \"font-weight: bold; text-align: right;\">19</td><td style = \"text-align: right;\">1797</td><td style = \"text-align: left;\">T. Minamino</td><td style = \"text-align: left;\">RW, ST, LM</td><td style = \"text-align: right;\">75</td><td style = \"text-align: right;\">26</td><td style = \"text-align: right;\">73</td><td style = \"text-align: right;\">73</td><td style = \"text-align: right;\">73</td><td style = \"text-align: right;\">75</td><td style = \"text-align: right;\">74</td><td style = \"text-align: right;\">74</td><td style = \"text-align: right;\">74</td><td style = \"text-align: right;\">75</td><td style = \"text-align: right;\">76</td><td style = \"text-align: right;\">76</td><td style = \"text-align: right;\">76</td><td style = \"text-align: right;\">76</td><td style = \"text-align: right;\">71</td><td style = \"text-align: right;\">71</td><td style = \"text-align: right;\">71</td><td style = \"text-align: right;\">76</td><td style = \"text-align: right;\">61</td><td style = \"text-align: right;\">58</td><td style = \"text-align: right;\">58</td><td style = \"text-align: right;\">58</td><td style = \"text-align: right;\">61</td><td style = \"text-align: right;\">57</td><td style = \"text-align: right;\">49</td><td style = \"text-align: right;\">49</td><td style = \"text-align: right;\">49</td><td style = \"text-align: right;\">57</td><td style = \"text-align: right;\">21</td><td style = \"text-align: right;\">30</td></tr><tr><td class = \"rowNumber\" style = \"font-weight: bold; text-align: right;\">20</td><td style = \"text-align: right;\">2297</td><td style = \"text-align: left;\">K. Tsimikas</td><td style = \"text-align: left;\">LB, LWB</td><td style = \"text-align: right;\">74</td><td style = \"text-align: right;\">25</td><td style = \"text-align: right;\">67</td><td style = \"text-align: right;\">67</td><td style = \"text-align: right;\">67</td><td style = \"text-align: right;\">70</td><td style = \"text-align: right;\">68</td><td style = \"text-align: right;\">68</td><td style = \"text-align: right;\">68</td><td style = \"text-align: right;\">70</td><td style = \"text-align: right;\">71</td><td style = \"text-align: right;\">71</td><td style = \"text-align: right;\">71</td><td style = \"text-align: right;\">73</td><td style = \"text-align: right;\">71</td><td style = \"text-align: right;\">71</td><td style = \"text-align: right;\">71</td><td style = \"text-align: right;\">73</td><td style = \"text-align: right;\">75</td><td style = \"text-align: right;\">72</td><td style = \"text-align: right;\">72</td><td style = \"text-align: right;\">72</td><td style = \"text-align: right;\">75</td><td style = \"text-align: right;\">74</td><td style = \"text-align: right;\">71</td><td style = \"text-align: right;\">71</td><td style = \"text-align: right;\">71</td><td style = \"text-align: right;\">74</td><td style = \"text-align: right;\">19</td><td style = \"text-align: right;\">30</td></tr><tr><td class = \"rowNumber\" style = \"font-weight: bold; text-align: right;\">21</td><td style = \"text-align: right;\">3017</td><td style = \"text-align: left;\">C. Jones</td><td style = \"text-align: left;\">CM</td><td style = \"text-align: right;\">73</td><td style = \"text-align: right;\">20</td><td style = \"text-align: right;\">69</td><td style = \"text-align: right;\">69</td><td style = \"text-align: right;\">69</td><td style = \"text-align: right;\">71</td><td style = \"text-align: right;\">71</td><td style = \"text-align: right;\">71</td><td style = \"text-align: right;\">71</td><td style = \"text-align: right;\">71</td><td style = \"text-align: right;\">75</td><td style = \"text-align: right;\">75</td><td style = \"text-align: right;\">75</td><td style = \"text-align: right;\">74</td><td style = \"text-align: right;\">75</td><td style = \"text-align: right;\">75</td><td style = \"text-align: right;\">75</td><td style = \"text-align: right;\">74</td><td style = \"text-align: right;\">71</td><td style = \"text-align: right;\">72</td><td style = \"text-align: right;\">72</td><td style = \"text-align: right;\">72</td><td style = \"text-align: right;\">71</td><td style = \"text-align: right;\">69</td><td style = \"text-align: right;\">66</td><td style = \"text-align: right;\">66</td><td style = \"text-align: right;\">66</td><td style = \"text-align: right;\">69</td><td style = \"text-align: right;\">18</td><td style = \"text-align: right;\">30</td></tr><tr><td class = \"rowNumber\" style = \"font-weight: bold; text-align: right;\">22</td><td style = \"text-align: right;\">3040</td><td style = \"text-align: left;\">H. Elliott</td><td style = \"text-align: left;\">RW, CM</td><td style = \"text-align: right;\">73</td><td style = \"text-align: right;\">18</td><td style = \"text-align: right;\">66</td><td style = \"text-align: right;\">66</td><td style = \"text-align: right;\">66</td><td style = \"text-align: right;\">73</td><td style = \"text-align: right;\">71</td><td style = \"text-align: right;\">71</td><td style = \"text-align: right;\">71</td><td style = \"text-align: right;\">73</td><td style = \"text-align: right;\">75</td><td style = \"text-align: right;\">75</td><td style = \"text-align: right;\">75</td><td style = \"text-align: right;\">75</td><td style = \"text-align: right;\">70</td><td style = \"text-align: right;\">70</td><td style = \"text-align: right;\">70</td><td style = \"text-align: right;\">75</td><td style = \"text-align: right;\">58</td><td style = \"text-align: right;\">53</td><td style = \"text-align: right;\">53</td><td style = \"text-align: right;\">53</td><td style = \"text-align: right;\">58</td><td style = \"text-align: right;\">53</td><td style = \"text-align: right;\">40</td><td style = \"text-align: right;\">40</td><td style = \"text-align: right;\">40</td><td style = \"text-align: right;\">53</td><td style = \"text-align: right;\">19</td><td style = \"text-align: right;\">35</td></tr><tr><td class = \"rowNumber\" style = \"font-weight: bold; text-align: right;\">23</td><td style = \"text-align: right;\">7212</td><td style = \"text-align: left;\">N. Williams</td><td style = \"text-align: left;\">RB</td><td style = \"text-align: right;\">68</td><td style = \"text-align: right;\">20</td><td style = \"text-align: right;\">54</td><td style = \"text-align: right;\">54</td><td style = \"text-align: right;\">54</td><td style = \"text-align: right;\">60</td><td style = \"text-align: right;\">56</td><td style = \"text-align: right;\">56</td><td style = \"text-align: right;\">56</td><td style = \"text-align: right;\">60</td><td style = \"text-align: right;\">60</td><td style = \"text-align: right;\">60</td><td style = \"text-align: right;\">60</td><td style = \"text-align: right;\">64</td><td style = \"text-align: right;\">62</td><td style = \"text-align: right;\">62</td><td style = \"text-align: right;\">62</td><td style = \"text-align: right;\">64</td><td style = \"text-align: right;\">69</td><td style = \"text-align: right;\">66</td><td style = \"text-align: right;\">66</td><td style = \"text-align: right;\">66</td><td style = \"text-align: right;\">69</td><td style = \"text-align: right;\">68</td><td style = \"text-align: right;\">64</td><td style = \"text-align: right;\">64</td><td style = \"text-align: right;\">64</td><td style = \"text-align: right;\">68</td><td style = \"text-align: right;\">20</td><td style = \"text-align: right;\">30</td></tr><tr><td class = \"rowNumber\" style = \"font-weight: bold; text-align: right;\">24</td><td style = \"text-align: right;\">8269</td><td style = \"text-align: left;\">C. Kelleher</td><td style = \"text-align: left;\">GK</td><td style = \"text-align: right;\">67</td><td style = \"text-align: right;\">22</td><td style = \"text-align: right;\">25</td><td style = \"text-align: right;\">25</td><td style = \"text-align: right;\">25</td><td style = \"text-align: right;\">22</td><td style = \"text-align: right;\">23</td><td style = \"text-align: right;\">23</td><td style = \"text-align: right;\">23</td><td style = \"text-align: right;\">22</td><td style = \"text-align: right;\">26</td><td style = \"text-align: right;\">26</td><td style = \"text-align: right;\">26</td><td style = \"text-align: right;\">25</td><td style = \"text-align: right;\">27</td><td style = \"text-align: right;\">27</td><td style = \"text-align: right;\">27</td><td style = \"text-align: right;\">25</td><td style = \"text-align: right;\">24</td><td style = \"text-align: right;\">27</td><td style = \"text-align: right;\">27</td><td style = \"text-align: right;\">27</td><td style = \"text-align: right;\">24</td><td style = \"text-align: right;\">24</td><td style = \"text-align: right;\">25</td><td style = \"text-align: right;\">25</td><td style = \"text-align: right;\">25</td><td style = \"text-align: right;\">24</td><td style = \"text-align: right;\">68</td><td style = \"text-align: right;\">30</td></tr></tbody></table></div>"
      ],
      "text/latex": [
       "\\begin{tabular}{r|cccccccc}\n",
       "\t& Column1 & short\\_name & player\\_positions & overall & age & ls & st & \\\\\n",
       "\t\\hline\n",
       "\t& Int64 & String31 & String15 & Int64 & Int64 & Int64 & Int64 & \\\\\n",
       "\t\\hline\n",
       "\t1 & 15 & V. van Dijk & CB & 89 & 29 & 73 & 73 & $\\dots$ \\\\\n",
       "\t2 & 16 & S. Mané & LW & 89 & 29 & 89 & 89 & $\\dots$ \\\\\n",
       "\t3 & 17 & M. Salah & RW & 89 & 29 & 88 & 88 & $\\dots$ \\\\\n",
       "\t4 & 20 & Alisson & GK & 89 & 28 & 40 & 40 & $\\dots$ \\\\\n",
       "\t5 & 42 & A. Robertson & LB & 87 & 27 & 75 & 75 & $\\dots$ \\\\\n",
       "\t6 & 44 & T. Alexander-Arnold & RB & 87 & 22 & 78 & 78 & $\\dots$ \\\\\n",
       "\t7 & 51 & Thiago & CM, CDM & 86 & 30 & 77 & 77 & $\\dots$ \\\\\n",
       "\t8 & 61 & Fabinho & CDM, CB & 86 & 27 & 77 & 77 & $\\dots$ \\\\\n",
       "\t9 & 85 & Roberto Firmino & CF & 85 & 29 & 84 & 84 & $\\dots$ \\\\\n",
       "\t10 & 102 & J. Henderson & CDM, CM & 84 & 31 & 79 & 79 & $\\dots$ \\\\\n",
       "\t11 & 158 & J. Matip & CB & 83 & 29 & 64 & 64 & $\\dots$ \\\\\n",
       "\t12 & 256 & Diogo Jota & LW, ST & 82 & 24 & 84 & 84 & $\\dots$ \\\\\n",
       "\t13 & 257 & J. Gomez & CB & 82 & 24 & 60 & 60 & $\\dots$ \\\\\n",
       "\t14 & 461 & N. Keïta & CM & 80 & 26 & 75 & 75 & $\\dots$ \\\\\n",
       "\t15 & 510 & J. Milner & CM, LB, RB & 79 & 35 & 73 & 73 & $\\dots$ \\\\\n",
       "\t16 & 549 & A. Oxlade-Chamberlain & CM & 79 & 27 & 76 & 76 & $\\dots$ \\\\\n",
       "\t17 & 832 & I. Konaté & CB & 78 & 22 & 57 & 57 & $\\dots$ \\\\\n",
       "\t18 & 1294 & D. Origi & ST, LW & 76 & 26 & 78 & 78 & $\\dots$ \\\\\n",
       "\t19 & 1797 & T. Minamino & RW, ST, LM & 75 & 26 & 73 & 73 & $\\dots$ \\\\\n",
       "\t20 & 2297 & K. Tsimikas & LB, LWB & 74 & 25 & 67 & 67 & $\\dots$ \\\\\n",
       "\t21 & 3017 & C. Jones & CM & 73 & 20 & 69 & 69 & $\\dots$ \\\\\n",
       "\t22 & 3040 & H. Elliott & RW, CM & 73 & 18 & 66 & 66 & $\\dots$ \\\\\n",
       "\t23 & 7212 & N. Williams & RB & 68 & 20 & 54 & 54 & $\\dots$ \\\\\n",
       "\t24 & 8269 & C. Kelleher & GK & 67 & 22 & 25 & 25 & $\\dots$ \\\\\n",
       "\\end{tabular}\n"
      ],
      "text/plain": [
       "\u001b[1m24×33 DataFrame\u001b[0m\n",
       "\u001b[1m Row \u001b[0m│\u001b[1m Column1 \u001b[0m\u001b[1m short_name            \u001b[0m\u001b[1m player_positions \u001b[0m\u001b[1m overall \u001b[0m\u001b[1m age   \u001b[0m\u001b[1m ls   \u001b[0m ⋯\n",
       "     │\u001b[90m Int64   \u001b[0m\u001b[90m String31              \u001b[0m\u001b[90m String15         \u001b[0m\u001b[90m Int64   \u001b[0m\u001b[90m Int64 \u001b[0m\u001b[90m Int64\u001b[0m ⋯\n",
       "─────┼──────────────────────────────────────────────────────────────────────────\n",
       "   1 │      15  V. van Dijk            CB                     89     29     73 ⋯\n",
       "   2 │      16  S. Mané                LW                     89     29     89\n",
       "   3 │      17  M. Salah               RW                     89     29     88\n",
       "   4 │      20  Alisson                GK                     89     28     40\n",
       "   5 │      42  A. Robertson           LB                     87     27     75 ⋯\n",
       "   6 │      44  T. Alexander-Arnold    RB                     87     22     78\n",
       "   7 │      51  Thiago                 CM, CDM                86     30     77\n",
       "   8 │      61  Fabinho                CDM, CB                86     27     77\n",
       "   9 │      85  Roberto Firmino        CF                     85     29     84 ⋯\n",
       "  10 │     102  J. Henderson           CDM, CM                84     31     79\n",
       "  11 │     158  J. Matip               CB                     83     29     64\n",
       "  ⋮  │    ⋮               ⋮                   ⋮             ⋮       ⋮      ⋮   ⋱\n",
       "  15 │     510  J. Milner              CM, LB, RB             79     35     73\n",
       "  16 │     549  A. Oxlade-Chamberlain  CM                     79     27     76 ⋯\n",
       "  17 │     832  I. Konaté              CB                     78     22     57\n",
       "  18 │    1294  D. Origi               ST, LW                 76     26     78\n",
       "  19 │    1797  T. Minamino            RW, ST, LM             75     26     73\n",
       "  20 │    2297  K. Tsimikas            LB, LWB                74     25     67 ⋯\n",
       "  21 │    3017  C. Jones               CM                     73     20     69\n",
       "  22 │    3040  H. Elliott             RW, CM                 73     18     66\n",
       "  23 │    7212  N. Williams            RB                     68     20     54\n",
       "  24 │    8269  C. Kelleher            GK                     67     22     25 ⋯\n",
       "\u001b[36m                                                   27 columns and 3 rows omitted\u001b[0m"
      ]
     },
     "execution_count": 76,
     "metadata": {},
     "output_type": "execute_result"
    }
   ],
   "source": [
    "liverpool_data = CSV.read(\"Liverpool_FIFA_22.csv\", DataFrame)\n",
    "delete!(liverpool_data, [19, 21, 23, 28, 29, 30, 31, 32, 33])\n",
    "# n_players = nrow(liverpool_data)"
   ]
  },
  {
   "cell_type": "code",
   "execution_count": 25,
   "metadata": {},
   "outputs": [
    {
     "data": {
      "text/plain": [
       "38"
      ]
     },
     "execution_count": 25,
     "metadata": {},
     "output_type": "execute_result"
    }
   ],
   "source": [
    "all_teams = CSV.read(\"Team_Ratings.csv\", DataFrame)\n",
    "n_positions = 27\n",
    "C = CSV.read(\"fixture_list.csv\", DataFrame)\n",
    "n_games = nrow(C)"
   ]
  },
  {
   "cell_type": "code",
   "execution_count": 26,
   "metadata": {},
   "outputs": [
    {
     "data": {
      "text/plain": [
       "6-element Vector{String}:\n",
       " \"ls\"\n",
       " \"st\"\n",
       " \"rs\"\n",
       " \"lf\"\n",
       " \"cf\"\n",
       " \"rf\""
      ]
     },
     "execution_count": 26,
     "metadata": {},
     "output_type": "execute_result"
    }
   ],
   "source": [
    "GK = \"gk\"\n",
    "defenders = [\"lwb\", \"rwb\", \"lb\", \"lcb\", \"cb\", \"rcb\", \"rb\"]\n",
    "midfielders = [\"lam\", \"cam\", \"ram\", \"lm\", \"lcm\", \"cm\", \"rcm\", \"rm\", \"ldm\", \"cdm\", \"rdm\"]\n",
    "forwards = [\"ls\", \"st\", \"rs\", \"lw\", \"lf\", \"cf\", \"rf\", \"rw\"]\n",
    "center_backs = [\"lcb\", \"cb\", \"rcb\"]\n",
    "right_backs = [\"rwb\", \"rb\"]\n",
    "left_backs = [\"lwb\", \"lb\"]\n",
    "cdms = [\"ldm\", \"cdm\", \"rdm\"]\n",
    "cms = [\"lcm\", \"cm\", \"rcm\"]\n",
    "cams = [\"lam\", \"cam\", \"ram\"]\n",
    "left_wingers = [\"lw\", \"lm\"]\n",
    "right_wingers = [\"rw\", \"rm\"]\n",
    "strikers = [\"ls\", \"st\", \"rs\", \"lf\", \"cf\", \"rf\"]"
   ]
  },
  {
   "cell_type": "code",
   "execution_count": 27,
   "metadata": {},
   "outputs": [
    {
     "data": {
      "text/plain": [
       "2"
      ]
     },
     "execution_count": 27,
     "metadata": {},
     "output_type": "execute_result"
    }
   ],
   "source": [
    "player_pos = [\"ls\", \"st\", \"rs\", \"lw\", \"lf\", \"cf\", \"rf\", \"rw\", \"lam\", \"cam\", \"ram\", \"lm\", \"lcm\", \"cm\", \"rcm\", \"rm\", \"lwb\", \"ldm\", \"cdm\", \"rdm\", \"rwb\", \"lb\", \"lcb\", \"cb\", \"rcb\", \"rb\", \"gk\"]\n",
    "pos_to_ind = Dict()\n",
    "ind_to_pos = Dict()\n",
    "index = 1\n",
    "for pos in player_pos\n",
    "    pos_to_ind[pos] = index\n",
    "    ind_to_pos[index] = pos\n",
    "    index += 1\n",
    "end\n",
    "pos_to_ind[\"st\"]"
   ]
  },
  {
   "cell_type": "code",
   "execution_count": 100,
   "metadata": {},
   "outputs": [
    {
     "data": {
      "text/plain": [
       "Set{String} with 8 elements:\n",
       "  \"rm\"\n",
       "  \"rwb\"\n",
       "  \"lb\"\n",
       "  \"rw\"\n",
       "  \"lw\"\n",
       "  \"lm\"\n",
       "  \"lwb\"\n",
       "  \"rb\""
      ]
     },
     "execution_count": 100,
     "metadata": {},
     "output_type": "execute_result"
    }
   ],
   "source": [
    "defensive_pos = Set([\"lb\", \"lcb\", \"cb\", \"rcb\", \"rb\", \"ldm\", \"cdm\", \"rdm\"])\n",
    "central_pos = Set([\"ldm\", \"cdm\", \"rdm\", \"lcm\", \"cm\", \"rcm\", \"lam\", \"cam\", \"ram\"])\n",
    "forward_pos = Set(forwards)\n",
    "wing_pos = Set([\"lwb\", \"rwb\", \"lm\", \"rm\", \"lw\", \"rw\"])\n",
    "wingback_pos = Set([\"lwb\", \"rwb\", \"lb\", \"rb\"])\n",
    "\n",
    "starting_11 = Set([1, 2, 3, 4, 5, 6, 7, 8, 10, 11, 12])\n",
    "union(wingback_pos, wing_pos)"
   ]
  },
  {
   "cell_type": "code",
   "execution_count": 77,
   "metadata": {},
   "outputs": [
    {
     "data": {
      "text/plain": [
       "27-element Vector{Int64}:\n",
       " -100\n",
       " -100\n",
       " -100\n",
       " -100\n",
       " -100\n",
       " -100\n",
       " -100\n",
       " -100\n",
       " -100\n",
       " -100\n",
       " -100\n",
       " -100\n",
       " -100\n",
       "    ⋮\n",
       " -100\n",
       " -100\n",
       " -100\n",
       " -100\n",
       " -100\n",
       " -100\n",
       "   87\n",
       " -100\n",
       " -100\n",
       " -100\n",
       " -100\n",
       " -100"
      ]
     },
     "execution_count": 77,
     "metadata": {},
     "output_type": "execute_result"
    }
   ],
   "source": [
    "function acceptable_positions(player_orig)\n",
    "    acceptable_pos = Set()\n",
    "    for k in player_orig\n",
    "        push!(acceptable_pos, lowercase(k))\n",
    "    end\n",
    "    return acceptable_pos\n",
    "end\n",
    "\n",
    "R = zeros(Int64, (n_players, n_positions))\n",
    "for i in 1:n_players\n",
    "    player_orig = split(liverpool_data[i, \"player_positions\"], \", \")\n",
    "    acceptable_pos = acceptable_positions(player_orig)\n",
    "    for pos in player_pos\n",
    "        if pos in acceptable_pos\n",
    "            R[i, pos_to_ind[pos]] = liverpool_data[i, pos]\n",
    "        else\n",
    "            R[i, pos_to_ind[pos]] = -100\n",
    "        end\n",
    "    end\n",
    "end\n",
    "R[5, :]"
   ]
  },
  {
   "cell_type": "code",
   "execution_count": 222,
   "metadata": {},
   "outputs": [
    {
     "data": {
      "text/plain": [
       "penalty (generic function with 1 method)"
      ]
     },
     "execution_count": 222,
     "metadata": {},
     "output_type": "execute_result"
    }
   ],
   "source": [
    "pos_discount = 0.99\n",
    "function penalty(player_number, game_number, x)\n",
    "    if game_number == 1\n",
    "        return 1\n",
    "    end\n",
    "    if sum(x[player_number, game_number-1, k] for k in 1:n_positions) == 0\n",
    "        return 1\n",
    "    end\n",
    "    max_consecutive = 0\n",
    "    for j in game_number-1:-1:max(1, game_number-6)\n",
    "        if sum(x[player_number, j, k] for k in 1:n_positions) == 0\n",
    "            max_consecutive += 0\n",
    "        else\n",
    "            max_consecutive += 1\n",
    "        end\n",
    "    end\n",
    "    return pos_discount^max_consecutive\n",
    "end"
   ]
  },
  {
   "cell_type": "code",
   "execution_count": 223,
   "metadata": {},
   "outputs": [
    {
     "name": "stdout",
     "output_type": "stream",
     "text": [
      "Set parameter Username\n",
      "Academic license - for non-commercial use only - expires 2023-09-03\n"
     ]
    },
    {
     "data": {
      "text/latex": [
       "$$ z_{1} + z_{2} + z_{3} + z_{4} + z_{5} + z_{6} + z_{7} + z_{8} + z_{9} + z_{10} + z_{11} + z_{12} + z_{13} + z_{14} + z_{15} + z_{16} + z_{17} + z_{18} + z_{19} + z_{20} + z_{21} + z_{22} + z_{23} + z_{24} + z_{25} + z_{26} + z_{27} + z_{28} + z_{29} + z_{30} + z_{31} + z_{32} + z_{33} + z_{34} + z_{35} + z_{36} + z_{37} + z_{38} $$"
      ],
      "text/plain": [
       "z[1] + z[2] + z[3] + z[4] + z[5] + z[6] + z[7] + z[8] + z[9] + z[10] + z[11] + z[12] + z[13] + z[14] + z[15] + z[16] + z[17] + z[18] + z[19] + z[20] + z[21] + z[22] + z[23] + z[24] + z[25] + z[26] + z[27] + z[28] + z[29] + z[30] + z[31] + z[32] + z[33] + z[34] + z[35] + z[36] + z[37] + z[38]"
      ]
     },
     "execution_count": 223,
     "metadata": {},
     "output_type": "execute_result"
    }
   ],
   "source": [
    "T_mult = 1.01\n",
    "\n",
    "# model = Model(with_optimizer(Gurobi.Optimizer))\n",
    "model = Model(Gurobi.Optimizer)\n",
    "\n",
    "### Decision Variables ###\n",
    "\n",
    "### x[i][j][k]. player i, game j, position k ###\n",
    "@variable(model, x[i=1:n_players, j=1:n_games, k=1:n_positions], Bin)\n",
    "\n",
    "### z variable, for whether we go for win or not ###\n",
    "@variable(model, z[j = 1:n_games], Bin)\n",
    "\n",
    "\n",
    "### Match Winning Constraint ###\n",
    "### R is player ratings, R[i][k] is player i for position k ###\n",
    "### C is the opposing team rating, C[j] is the rating of the opposing team for game j ###\n",
    "\n",
    "\n",
    "# for i in starting_11\n",
    "#     @constraint(model, sum(sum(x[i, j, k] for j in 1:n_games) for k in 1:n_positions) >= 15)\n",
    "# end\n",
    "\n",
    "for j in 1:n_games\n",
    "    @constraint(model, sum(sum(R[i, k]*x[i, j, k]*penalty(i, j, x) for i in 1:n_players) for k in 1:n_positions)/11 >= T_mult*C[j, 2]*z[j])\n",
    "    # @constraint(model, sum(sum(R[i, k]*x[i, j, k]*penalty(i, j, x) for i in 1:n_players) for k in 1:n_positions)/11 >= 85*z[j])\n",
    "    @constraint(model, sum(sum(R[i, k]*x[i, j, k]*penalty(i, j, x) for i in 1:n_players) for k in 1:n_positions)/11 >= 75)\n",
    "end\n",
    "\n",
    "### Player Constraints ###\n",
    "\n",
    "### Each player can only play at most once in a game ###\n",
    "for j in 1:n_games\n",
    "    for i in 1:n_players\n",
    "        @constraint(model, sum(x[i, j, k] for k in 1:n_positions) <= 1)\n",
    "    end\n",
    "end\n",
    "\n",
    "### Can only have 11 players in game ###\n",
    "for j in 1:n_games\n",
    "    @constraint(model, sum(sum(x[i, j, k] for k in 1:n_positions) for i in 1:n_players) == 11)\n",
    "\n",
    "    ### 1 GK per game ###\n",
    "    @constraint(model, sum(x[i, j, pos_to_ind[GK]] for i in 1:n_players) == 1)\n",
    "\n",
    "    ### 4 Defenders per game ###\n",
    "    @constraint(model, sum(sum(x[i, j, pos_to_ind[k]] for i in 1:n_players) for k in defenders) == 4)\n",
    "\n",
    "    ### 3 - 5 Midfielders per game ### \n",
    "    @constraint(model, 3 <= sum(sum(x[i, j, pos_to_ind[k]] for i in 1:n_players) for k in midfielders) <= 5)\n",
    "\n",
    "    ### 1 - 3 Forwards per game ###\n",
    "    @constraint(model, 1 <= sum(sum(x[i, j, pos_to_ind[k]] for i in 1:n_players) for k in forwards) <= 3)\n",
    "\n",
    "    # ### 2 CBs per game ###\n",
    "    @constraint(model, sum(sum(x[i, j, pos_to_ind[k]] for i in 1:n_players) for k in center_backs) == 2)\n",
    "\n",
    "    # ### 1 RB per game ###\n",
    "    @constraint(model, sum(sum(x[i, j, pos_to_ind[k]] for i in 1:n_players) for k in right_backs) == 1)\n",
    "\n",
    "    # ### 1 LB per game ###\n",
    "    @constraint(model, sum(sum(x[i, j, pos_to_ind[k]] for i in 1:n_players) for k in left_backs) == 1)\n",
    "\n",
    "    # ### 0 - 2 CDMs per game ###\n",
    "    @constraint(model, 0 <= sum(sum(x[i, j, pos_to_ind[k]] for i in 1:n_players) for k in cdms) <= 2)\n",
    "\n",
    "    # ### 0 - 3 CMs per game ###\n",
    "    @constraint(model, 0 <= sum(sum(x[i, j, pos_to_ind[k]] for i in 1:n_players) for k in cms) <= 3)\n",
    "\n",
    "    # ### 0 - 3 CAMS per game ###\n",
    "    @constraint(model, 0 <= sum(sum(x[i, j, pos_to_ind[k]] for i in 1:n_players) for k in cams) <= 3)\n",
    "\n",
    "    # ### 0 - 1 LW, LM per game ###\n",
    "    @constraint(model, sum(sum(x[i, j, pos_to_ind[k]] for i in 1:n_players) for k in left_wingers) <= 1)\n",
    "\n",
    "    # ### 0 - 1 RW, RM per game ###\n",
    "    @constraint(model, sum(sum(x[i, j, pos_to_ind[k]] for i in 1:n_players) for k in right_wingers) <= 1)\n",
    "\n",
    "    # ### 1 ST per game ###\n",
    "    @constraint(model, sum(sum(x[i, j, pos_to_ind[k]] for i in 1:n_players) for k in strikers) == 1)\n",
    "end\n",
    "\n",
    "### Objective Function ###\n",
    "@objective(model, Max, sum(z[j] for j in 1:n_games))"
   ]
  },
  {
   "cell_type": "code",
   "execution_count": 224,
   "metadata": {},
   "outputs": [
    {
     "name": "stdout",
     "output_type": "stream",
     "text": [
      "Gurobi Optimizer version 9.5.2 build v9.5.2rc0 (mac64[x86])\n",
      "Thread count: 6 physical cores, 12 logical processors, using up to 12 threads\n",
      "Optimize a model with 1520 rows, 24852 columns and 147060 nonzeros\n",
      "Model fingerprint: 0x5ef38f10\n",
      "Variable types: 190 continuous, 24662 integer (24662 binary)\n",
      "Coefficient statistics:\n",
      "  Matrix range     [1e+00, 9e+01]\n",
      "  Objective range  [1e+00, 1e+00]\n",
      "  Bounds range     [1e+00, 5e+00]\n",
      "  RHS range        [1e+00, 8e+01]\n",
      "Presolve removed 1514 rows and 24840 columns\n",
      "Presolve time: 0.11s\n",
      "Presolved: 6 rows, 12 columns, 35 nonzeros\n",
      "Variable types: 0 continuous, 12 integer (11 binary)\n",
      "Found heuristic solution: objective 30.0000000\n",
      "\n",
      "Explored 0 nodes (0 simplex iterations) in 0.15 seconds (0.08 work units)\n",
      "Thread count was 12 (of 12 available processors)\n",
      "\n",
      "Solution count 1: 30 \n",
      "\n",
      "Optimal solution found (tolerance 1.00e-04)\n",
      "Best objective 3.000000000000e+01, best bound 3.000000000000e+01, gap 0.0000%\n",
      "\n",
      "User-callback calls 654, time in user-callback 0.00 sec\n"
     ]
    }
   ],
   "source": [
    "optimize!(model)"
   ]
  },
  {
   "cell_type": "code",
   "execution_count": 225,
   "metadata": {},
   "outputs": [
    {
     "name": "stdout",
     "output_type": "stream",
     "text": [
      "Dict{Any, Any}(String31(\"S. Mané\") => \"lw\", String31(\"J. Milner\") => \"cm\", String31(\"M. Salah\") => \"rw\", String31(\"N. Keïta\") => \"cm\", String31(\"A. Oxlade-Chamberlain\") => \"cm\", String31(\"V. van Dijk\") => \"cb\", String31(\"T. Alexander-Arnold\") => \"rb\", String31(\"Fabinho\") => \"cb\", String31(\"A. Robertson\") => \"lb\", String31(\"Alisson\") => \"gk\", String31(\"Diogo Jota\") => \"st\")\n"
     ]
    }
   ],
   "source": [
    "opt_x = value.(x)\n",
    "function matrix_to_lineup(x, j)\n",
    "    player_to_pos = Dict()\n",
    "    for i in 1:n_players\n",
    "        for k in 1:n_positions\n",
    "            cur_val = x[i, j, k]\n",
    "            if cur_val == 1\n",
    "                player_name = liverpool_data[i, \"short_name\"]\n",
    "                # println(player_name, i)\n",
    "                player_pos = ind_to_pos[k]\n",
    "                player_to_pos[player_name] = player_pos\n",
    "            end\n",
    "        end\n",
    "    end\n",
    "    return player_to_pos\n",
    "end\n",
    "\n",
    "println(matrix_to_lineup(opt_x, 1))"
   ]
  },
  {
   "cell_type": "code",
   "execution_count": 239,
   "metadata": {},
   "outputs": [
    {
     "data": {
      "text/plain": [
       "Dict{Any, Any} with 38 entries:\n",
       "  5  => Dict{Any, Any}(String31(\"S. Mané\")=>\"lw\", String31(\"J. Milner\")=>\"cm\", …\n",
       "  16 => Dict{Any, Any}(String31(\"J. Matip\")=>\"cb\", String31(\"M. Salah\")=>\"rw\", …\n",
       "  20 => Dict{Any, Any}(String31(\"S. Mané\")=>\"lw\", String31(\"J. Matip\")=>\"cb\", S…\n",
       "  35 => Dict{Any, Any}(String31(\"M. Salah\")=>\"rw\", String31(\"N. Keïta\")=>\"cm\", …\n",
       "  12 => Dict{Any, Any}(String31(\"S. Mané\")=>\"lw\", String31(\"J. Matip\")=>\"cb\", S…\n",
       "  24 => Dict{Any, Any}(String31(\"S. Mané\")=>\"lw\", String31(\"J. Matip\")=>\"cb\", S…\n",
       "  28 => Dict{Any, Any}(String31(\"S. Mané\")=>\"lw\", String31(\"J. Milner\")=>\"cm\", …\n",
       "  8  => Dict{Any, Any}(String31(\"S. Mané\")=>\"lw\", String31(\"J. Milner\")=>\"cm\", …\n",
       "  17 => Dict{Any, Any}(String31(\"M. Salah\")=>\"rw\", String31(\"N. Keïta\")=>\"cm\", …\n",
       "  30 => Dict{Any, Any}(String31(\"S. Mané\")=>\"lw\", String31(\"J. Milner\")=>\"cm\", …\n",
       "  1  => Dict{Any, Any}(String31(\"S. Mané\")=>\"lw\", String31(\"J. Milner\")=>\"cm\", …\n",
       "  19 => Dict{Any, Any}(String31(\"S. Mané\")=>\"lw\", String31(\"J. Milner\")=>\"cm\", …\n",
       "  22 => Dict{Any, Any}(String31(\"S. Mané\")=>\"lw\", String31(\"J. Milner\")=>\"cm\", …\n",
       "  23 => Dict{Any, Any}(String31(\"S. Mané\")=>\"lw\", String31(\"J. Milner\")=>\"cm\", …\n",
       "  6  => Dict{Any, Any}(String31(\"S. Mané\")=>\"lw\", String31(\"C. Jones\")=>\"cm\", S…\n",
       "  32 => Dict{Any, Any}(String31(\"S. Mané\")=>\"lw\", String31(\"C. Jones\")=>\"cm\", S…\n",
       "  11 => Dict{Any, Any}(String31(\"S. Mané\")=>\"lw\", String31(\"J. Milner\")=>\"cm\", …\n",
       "  36 => Dict{Any, Any}(String31(\"S. Mané\")=>\"lw\", String31(\"J. Milner\")=>\"cm\", …\n",
       "  37 => Dict{Any, Any}(String31(\"S. Mané\")=>\"lw\", String31(\"J. Milner\")=>\"cm\", …\n",
       "  9  => Dict{Any, Any}(String31(\"S. Mané\")=>\"lw\", String31(\"J. Milner\")=>\"cm\", …\n",
       "  31 => Dict{Any, Any}(String31(\"S. Mané\")=>\"lw\", String31(\"J. Milner\")=>\"cm\", …\n",
       "  14 => Dict{Any, Any}(String31(\"M. Salah\")=>\"rw\", String31(\"N. Keïta\")=>\"cm\", …\n",
       "  3  => Dict{Any, Any}(String31(\"S. Mané\")=>\"lw\", String31(\"J. Milner\")=>\"cm\", …\n",
       "  29 => Dict{Any, Any}(String31(\"S. Mané\")=>\"lw\", String31(\"C. Jones\")=>\"cm\", S…\n",
       "  7  => Dict{Any, Any}(String31(\"S. Mané\")=>\"lw\", String31(\"J. Milner\")=>\"cm\", …\n",
       "  ⋮  => ⋮"
      ]
     },
     "execution_count": 239,
     "metadata": {},
     "output_type": "execute_result"
    }
   ],
   "source": [
    "function every_lineup(x)\n",
    "    game_to_lineup = Dict()\n",
    "    for j in 1:n_games\n",
    "        game_to_lineup[j] = matrix_to_lineup(x, j)\n",
    "    end\n",
    "    return game_to_lineup\n",
    "end\n",
    "\n",
    "line_ups = every_lineup(opt_x)"
   ]
  },
  {
   "cell_type": "code",
   "execution_count": 236,
   "metadata": {},
   "outputs": [
    {
     "data": {
      "text/plain": [
       "Dict{Any, Any} with 11 entries:\n",
       "  String31(\"S. Mané\")               => \"lw\"\n",
       "  String31(\"J. Milner\")             => \"cm\"\n",
       "  String31(\"M. Salah\")              => \"rw\"\n",
       "  String31(\"N. Keïta\")              => \"cm\"\n",
       "  String31(\"A. Oxlade-Chamberlain\") => \"cm\"\n",
       "  String31(\"V. van Dijk\")           => \"cb\"\n",
       "  String31(\"T. Alexander-Arnold\")   => \"rb\"\n",
       "  String31(\"Fabinho\")               => \"cb\"\n",
       "  String31(\"A. Robertson\")          => \"lb\"\n",
       "  String31(\"Alisson\")               => \"gk\"\n",
       "  String31(\"Diogo Jota\")            => \"st\""
      ]
     },
     "execution_count": 236,
     "metadata": {},
     "output_type": "execute_result"
    }
   ],
   "source": [
    "line_ups[36]"
   ]
  },
  {
   "cell_type": "code",
   "execution_count": 240,
   "metadata": {},
   "outputs": [
    {
     "data": {
      "text/html": [
       "<div><div style = \"float: left;\"><span>11×2 DataFrame</span></div><div style = \"clear: both;\"></div></div><div class = \"data-frame\" style = \"overflow-x: scroll;\"><table class = \"data-frame\" style = \"margin-bottom: 6px;\"><thead><tr class = \"header\"><th class = \"rowNumber\" style = \"font-weight: bold; text-align: right;\">Row</th><th style = \"text-align: left;\">player_name</th><th style = \"text-align: left;\">position</th></tr><tr class = \"subheader headerLastRow\"><th class = \"rowNumber\" style = \"font-weight: bold; text-align: right;\"></th><th title = \"Any\" style = \"text-align: left;\">Any</th><th title = \"Any\" style = \"text-align: left;\">Any</th></tr></thead><tbody><tr><td class = \"rowNumber\" style = \"font-weight: bold; text-align: right;\">1</td><td style = \"text-align: left;\">S. Mané</td><td style = \"text-align: left;\">lw</td></tr><tr><td class = \"rowNumber\" style = \"font-weight: bold; text-align: right;\">2</td><td style = \"text-align: left;\">J. Milner</td><td style = \"text-align: left;\">cm</td></tr><tr><td class = \"rowNumber\" style = \"font-weight: bold; text-align: right;\">3</td><td style = \"text-align: left;\">M. Salah</td><td style = \"text-align: left;\">rw</td></tr><tr><td class = \"rowNumber\" style = \"font-weight: bold; text-align: right;\">4</td><td style = \"text-align: left;\">N. Keïta</td><td style = \"text-align: left;\">cm</td></tr><tr><td class = \"rowNumber\" style = \"font-weight: bold; text-align: right;\">5</td><td style = \"text-align: left;\">A. Oxlade-Chamberlain</td><td style = \"text-align: left;\">cm</td></tr><tr><td class = \"rowNumber\" style = \"font-weight: bold; text-align: right;\">6</td><td style = \"text-align: left;\">V. van Dijk</td><td style = \"text-align: left;\">cb</td></tr><tr><td class = \"rowNumber\" style = \"font-weight: bold; text-align: right;\">7</td><td style = \"text-align: left;\">T. Alexander-Arnold</td><td style = \"text-align: left;\">rb</td></tr><tr><td class = \"rowNumber\" style = \"font-weight: bold; text-align: right;\">8</td><td style = \"text-align: left;\">Fabinho</td><td style = \"text-align: left;\">cb</td></tr><tr><td class = \"rowNumber\" style = \"font-weight: bold; text-align: right;\">9</td><td style = \"text-align: left;\">A. Robertson</td><td style = \"text-align: left;\">lb</td></tr><tr><td class = \"rowNumber\" style = \"font-weight: bold; text-align: right;\">10</td><td style = \"text-align: left;\">Alisson</td><td style = \"text-align: left;\">gk</td></tr><tr><td class = \"rowNumber\" style = \"font-weight: bold; text-align: right;\">11</td><td style = \"text-align: left;\">Diogo Jota</td><td style = \"text-align: left;\">st</td></tr></tbody></table></div>"
      ],
      "text/latex": [
       "\\begin{tabular}{r|cc}\n",
       "\t& player\\_name & position\\\\\n",
       "\t\\hline\n",
       "\t& Any & Any\\\\\n",
       "\t\\hline\n",
       "\t1 & S. Mané & lw \\\\\n",
       "\t2 & J. Milner & cm \\\\\n",
       "\t3 & M. Salah & rw \\\\\n",
       "\t4 & N. Keïta & cm \\\\\n",
       "\t5 & A. Oxlade-Chamberlain & cm \\\\\n",
       "\t6 & V. van Dijk & cb \\\\\n",
       "\t7 & T. Alexander-Arnold & rb \\\\\n",
       "\t8 & Fabinho & cb \\\\\n",
       "\t9 & A. Robertson & lb \\\\\n",
       "\t10 & Alisson & gk \\\\\n",
       "\t11 & Diogo Jota & st \\\\\n",
       "\\end{tabular}\n"
      ],
      "text/plain": [
       "\u001b[1m11×2 DataFrame\u001b[0m\n",
       "\u001b[1m Row \u001b[0m│\u001b[1m player_name           \u001b[0m\u001b[1m position \u001b[0m\n",
       "     │\u001b[90m Any                   \u001b[0m\u001b[90m Any      \u001b[0m\n",
       "─────┼─────────────────────────────────\n",
       "   1 │ S. Mané                lw\n",
       "   2 │ J. Milner              cm\n",
       "   3 │ M. Salah               rw\n",
       "   4 │ N. Keïta               cm\n",
       "   5 │ A. Oxlade-Chamberlain  cm\n",
       "   6 │ V. van Dijk            cb\n",
       "   7 │ T. Alexander-Arnold    rb\n",
       "   8 │ Fabinho                cb\n",
       "   9 │ A. Robertson           lb\n",
       "  10 │ Alisson                gk\n",
       "  11 │ Diogo Jota             st"
      ]
     },
     "execution_count": 240,
     "metadata": {},
     "output_type": "execute_result"
    }
   ],
   "source": [
    "function dict_to_df(lineup_dict)\n",
    "    player_names, player_pos = [], []\n",
    "    for (key, value) in lineup_dict\n",
    "        push!(player_names, key)\n",
    "        push!(player_pos, value)\n",
    "    end\n",
    "    df = DataFrame(player_name = player_names, position = player_pos)\n",
    "    return df\n",
    "end\n",
    "dict_to_df(line_ups[1])"
   ]
  },
  {
   "cell_type": "code",
   "execution_count": 241,
   "metadata": {},
   "outputs": [],
   "source": [
    "fixtures = C[!, \"Team\"]\n",
    "XLSX.openxlsx(\"mult_penalty_beatavg.xlsx\", mode=\"w\") do xf\n",
    "    XLSX.rename!(xf[1], fixtures[1] * \"_1\")\n",
    "    teams = Set([fixtures[1]])\n",
    "    sheet = xf[fixtures[1] * \"_1\"]\n",
    "    cur_lineup = line_ups[1]\n",
    "    df = dict_to_df(cur_lineup)\n",
    "    for r in 1:size(df,1), c in 1:size(df,2)\n",
    "        sheet[XLSX.CellRef(r , c )] = df[r,c]\n",
    "    end\n",
    "    for game in 2:n_games\n",
    "        cur_team = fixtures[game]\n",
    "        if cur_team in teams\n",
    "            sheet_name = cur_team * \"_2\"\n",
    "        else\n",
    "            sheet_name = cur_team * \"_1\"\n",
    "            push!(teams, cur_team)\n",
    "        end\n",
    "        XLSX.addsheet!(xf, sheet_name)\n",
    "        sheet = xf[sheet_name]\n",
    "        cur_lineup = line_ups[game]\n",
    "        df = dict_to_df(cur_lineup)\n",
    "        for r in 1:size(df,1), c in 1:size(df,2)\n",
    "            sheet[XLSX.CellRef(r , c )] = df[r,c]\n",
    "        end\n",
    "    end\n",
    "end"
   ]
  },
  {
   "cell_type": "markdown",
   "metadata": {},
   "source": []
  }
 ],
 "metadata": {
  "kernelspec": {
   "display_name": "Julia 1.8.0",
   "language": "julia",
   "name": "julia-1.8"
  },
  "language_info": {
   "file_extension": ".jl",
   "mimetype": "application/julia",
   "name": "julia",
   "version": "1.8.0"
  },
  "orig_nbformat": 4
 },
 "nbformat": 4,
 "nbformat_minor": 2
}
